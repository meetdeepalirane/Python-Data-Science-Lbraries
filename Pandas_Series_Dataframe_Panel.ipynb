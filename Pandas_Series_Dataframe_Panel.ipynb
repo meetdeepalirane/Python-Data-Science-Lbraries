{
 "cells": [
  {
   "cell_type": "code",
   "execution_count": 2,
   "id": "e8594f73",
   "metadata": {},
   "outputs": [
    {
     "name": "stdout",
     "output_type": "stream",
     "text": [
      "Series([], dtype: float64)\n"
     ]
    },
    {
     "name": "stderr",
     "output_type": "stream",
     "text": [
      "C:\\Users\\admin\\AppData\\Local\\Temp/ipykernel_11892/2148162236.py:5: DeprecationWarning: The default dtype for empty Series will be 'object' instead of 'float64' in a future version. Specify a dtype explicitly to silence this warning.\n",
      "  s=pd.Series()\n"
     ]
    }
   ],
   "source": [
    "#Pandas series\n",
    "#Creating empty series\n",
    "import pandas as pd\n",
    "#s=pd.Series(data,index,dtype,copy) ---------- Syntax\n",
    "s=pd.Series()\n",
    "print(s)"
   ]
  },
  {
   "cell_type": "code",
   "execution_count": 3,
   "id": "c546283a",
   "metadata": {},
   "outputs": [
    {
     "name": "stdout",
     "output_type": "stream",
     "text": [
      "0    1\n",
      "1    2\n",
      "2    3\n",
      "3    4\n",
      "4    5\n",
      "dtype: int64\n"
     ]
    }
   ],
   "source": [
    "#creating series from ndarray\n",
    "import pandas as pd\n",
    "import numpy as np\n",
    "data=[1,2,3,4,5]\n",
    "s=pd.Series(data)\n",
    "print(s)\n",
    "#if index is not passed bydefault index will be range(n) where n is array length-1"
   ]
  },
  {
   "cell_type": "code",
   "execution_count": 5,
   "id": "cfa504ee",
   "metadata": {},
   "outputs": [
    {
     "name": "stdout",
     "output_type": "stream",
     "text": [
      "a    1\n",
      "b    2\n",
      "c    3\n",
      "d    4\n",
      "e    5\n",
      "dtype: int64\n"
     ]
    }
   ],
   "source": [
    "#if index is specified then\n",
    "import pandas as pd\n",
    "import numpy as np\n",
    "data=[1,2,3,4,5]\n",
    "s=pd.Series(data,index=['a','b','c','d','e'])\n",
    "print(s)"
   ]
  },
  {
   "cell_type": "code",
   "execution_count": 6,
   "id": "3bb8482a",
   "metadata": {},
   "outputs": [
    {
     "name": "stdout",
     "output_type": "stream",
     "text": [
      "a    10\n",
      "b    20\n",
      "c    30\n",
      "dtype: int64\n"
     ]
    }
   ],
   "source": [
    "#creating series from dict\n",
    "import pandas as pd\n",
    "import numpy as np\n",
    "d={'a':10,'b':20,'c':30}\n",
    "s=pd.Series(d)\n",
    "print(s)"
   ]
  },
  {
   "cell_type": "code",
   "execution_count": 7,
   "id": "3e7a1d4a",
   "metadata": {},
   "outputs": [
    {
     "name": "stdout",
     "output_type": "stream",
     "text": [
      "1   NaN\n",
      "2   NaN\n",
      "3   NaN\n",
      "dtype: float64\n"
     ]
    }
   ],
   "source": [
    "import pandas as pd\n",
    "import numpy as np\n",
    "d={'a':10,'b':20,'c':30}\n",
    "s=pd.Series(d,index=[1,2,3])\n",
    "print(s)"
   ]
  },
  {
   "cell_type": "code",
   "execution_count": 12,
   "id": "cdd01216",
   "metadata": {},
   "outputs": [
    {
     "name": "stdout",
     "output_type": "stream",
     "text": [
      "c    30\n",
      "a    10\n",
      "b    20\n",
      "d    40\n",
      "e    50\n",
      "dtype: int64\n"
     ]
    }
   ],
   "source": [
    "import pandas as pd\n",
    "import numpy as np\n",
    "d={'a':10,'b':20,'c':30,'d':40,'e':50}\n",
    "s=pd.Series(d,index=['c','a','b','d','e'])\n",
    "print(s)"
   ]
  },
  {
   "cell_type": "code",
   "execution_count": 10,
   "id": "e190ef3d",
   "metadata": {},
   "outputs": [
    {
     "data": {
      "text/plain": [
       "30"
      ]
     },
     "execution_count": 10,
     "metadata": {},
     "output_type": "execute_result"
    }
   ],
   "source": [
    "# Accessing data from Series\n",
    "s[0]"
   ]
  },
  {
   "cell_type": "code",
   "execution_count": 13,
   "id": "b6f71cd3",
   "metadata": {},
   "outputs": [
    {
     "data": {
      "text/plain": [
       "c    30\n",
       "a    10\n",
       "b    20\n",
       "d    40\n",
       "e    50\n",
       "dtype: int64"
      ]
     },
     "execution_count": 13,
     "metadata": {},
     "output_type": "execute_result"
    }
   ],
   "source": [
    "s[:]"
   ]
  },
  {
   "cell_type": "code",
   "execution_count": 14,
   "id": "0b8ad095",
   "metadata": {},
   "outputs": [
    {
     "data": {
      "text/plain": [
       "c    30\n",
       "a    10\n",
       "b    20\n",
       "dtype: int64"
      ]
     },
     "execution_count": 14,
     "metadata": {},
     "output_type": "execute_result"
    }
   ],
   "source": [
    "s[:3]"
   ]
  },
  {
   "cell_type": "code",
   "execution_count": 15,
   "id": "c9c6ed01",
   "metadata": {},
   "outputs": [
    {
     "data": {
      "text/plain": [
       "a    10\n",
       "b    20\n",
       "d    40\n",
       "dtype: int64"
      ]
     },
     "execution_count": 15,
     "metadata": {},
     "output_type": "execute_result"
    }
   ],
   "source": [
    "s[-4:-1]"
   ]
  },
  {
   "cell_type": "code",
   "execution_count": 16,
   "id": "9a4ed367",
   "metadata": {},
   "outputs": [
    {
     "data": {
      "text/plain": [
       "b    20\n",
       "d    40\n",
       "e    50\n",
       "dtype: int64"
      ]
     },
     "execution_count": 16,
     "metadata": {},
     "output_type": "execute_result"
    }
   ],
   "source": [
    "s[-3:]"
   ]
  },
  {
   "cell_type": "code",
   "execution_count": 17,
   "id": "0ce7304b",
   "metadata": {},
   "outputs": [
    {
     "data": {
      "text/plain": [
       "50"
      ]
     },
     "execution_count": 17,
     "metadata": {},
     "output_type": "execute_result"
    }
   ],
   "source": [
    "#retreieving single data using index/label\n",
    "s['e']"
   ]
  },
  {
   "cell_type": "code",
   "execution_count": 20,
   "id": "4c388f26",
   "metadata": {},
   "outputs": [
    {
     "data": {
      "text/plain": [
       "d    40\n",
       "e    50\n",
       "dtype: int64"
      ]
     },
     "execution_count": 20,
     "metadata": {},
     "output_type": "execute_result"
    }
   ],
   "source": [
    "#retrieving multiple values\n",
    "s[['d','e']]"
   ]
  },
  {
   "cell_type": "code",
   "execution_count": 22,
   "id": "1ddff44d",
   "metadata": {},
   "outputs": [
    {
     "name": "stdout",
     "output_type": "stream",
     "text": [
      "Empty DataFrame\n",
      "Columns: []\n",
      "Index: []\n"
     ]
    }
   ],
   "source": [
    "#DATAFRAME\n",
    "#creating an empty dataframe\n",
    "import pandas as pd\n",
    "df=pd.DataFrame()\n",
    "print(df)"
   ]
  },
  {
   "cell_type": "code",
   "execution_count": 25,
   "id": "61aa58ec",
   "metadata": {},
   "outputs": [
    {
     "name": "stdout",
     "output_type": "stream",
     "text": [
      "   0\n",
      "a  1\n",
      "b  2\n",
      "c  3\n",
      "d  4\n",
      "e  5\n"
     ]
    }
   ],
   "source": [
    "#creating dataframe feom list\n",
    "import pandas as pd\n",
    "li=[1,2,3,4,5]\n",
    "#df=pd.DataFrame(li)\n",
    "df=pd.DataFrame(li,index=['a','b','c','d','e'])\n",
    "print(df)"
   ]
  },
  {
   "cell_type": "code",
   "execution_count": 2,
   "id": "6764882d",
   "metadata": {},
   "outputs": [
    {
     "name": "stdout",
     "output_type": "stream",
     "text": [
      "      Name   Age\n",
      "1    Rohit  32.0\n",
      "2  Deepali  32.0\n",
      "3     Rudu   0.8\n"
     ]
    }
   ],
   "source": [
    "import pandas as pd\n",
    "data=[[\"Rohit\",32],[\"Deepali\",32],[\"Rudu\",0.8]]\n",
    "#df=pd.DataFrame(data)\n",
    "df=pd.DataFrame(data,columns=['Name','Age'],index=[1,2,3])\n",
    "print(df)"
   ]
  },
  {
   "cell_type": "code",
   "execution_count": 33,
   "id": "fe59e60c",
   "metadata": {},
   "outputs": [
    {
     "name": "stdout",
     "output_type": "stream",
     "text": [
      "   Name  Age\n",
      "0  Josh   45\n",
      "1   Mel   23\n",
      "2  Andy   42\n"
     ]
    }
   ],
   "source": [
    "#Dataframe from dict of ndarrays/ list\n",
    "data={\n",
    "      \n",
    "    'Name':['Josh','Mel','Andy'],\n",
    "    'Age': [45,23,42]    \n",
    "    \n",
    "}\n",
    "df=pd.DataFrame(data)\n",
    "print(df)"
   ]
  },
  {
   "cell_type": "code",
   "execution_count": 34,
   "id": "e16205e0",
   "metadata": {},
   "outputs": [
    {
     "name": "stdout",
     "output_type": "stream",
     "text": [
      "   Deep  Rohu  Rudu  Dyanu\n",
      "0  32.0  31.0   NaN    NaN\n",
      "1   NaN   NaN   3.0    1.0\n"
     ]
    }
   ],
   "source": [
    "# Dataframe form list of dict\n",
    "import pandas  as pd\n",
    "data=[{'Deep':32,\"Rohu\":31},{\"Rudu\":3,\"Dyanu\":1}]\n",
    "df=pd.DataFrame(data)\n",
    "print(df)"
   ]
  },
  {
   "cell_type": "code",
   "execution_count": 38,
   "id": "272a8ef8",
   "metadata": {},
   "outputs": [
    {
     "name": "stdout",
     "output_type": "stream",
     "text": [
      "   one  Two\n",
      "0  1.0    1\n",
      "1  2.0    2\n",
      "2  3.0    3\n",
      "3  NaN    4\n"
     ]
    }
   ],
   "source": [
    "#Dataframe for dict of series\n",
    "\n",
    "data={\n",
    "    \n",
    "    \"one\":pd.Series([1,2,3]),\n",
    "    \"Two\":pd.Series([1,2,3,4])\n",
    "    \n",
    "}\n",
    "df=pd.DataFrame(data)\n",
    "print(df)"
   ]
  },
  {
   "cell_type": "code",
   "execution_count": 40,
   "id": "8e76910a",
   "metadata": {},
   "outputs": [
    {
     "name": "stdout",
     "output_type": "stream",
     "text": [
      "   one  Two  Three\n",
      "0  1.0    1      5\n",
      "1  2.0    2      6\n",
      "2  3.0    3      7\n",
      "3  NaN    4      8\n"
     ]
    }
   ],
   "source": [
    "#adding new column \n",
    "df['Three']=pd.Series([5,6,7,8])\n",
    "print(df)"
   ]
  },
  {
   "cell_type": "code",
   "execution_count": 41,
   "id": "09455f02",
   "metadata": {},
   "outputs": [
    {
     "name": "stdout",
     "output_type": "stream",
     "text": [
      "   one  Two  Three  Four\n",
      "0  1.0    1      5   2.0\n",
      "1  2.0    2      6   4.0\n",
      "2  3.0    3      7   6.0\n",
      "3  NaN    4      8   NaN\n"
     ]
    }
   ],
   "source": [
    "df[\"Four\"]=df[\"one\"]+df[\"Two\"]\n",
    "print(df)"
   ]
  },
  {
   "cell_type": "code",
   "execution_count": 42,
   "id": "a940ebd7",
   "metadata": {},
   "outputs": [],
   "source": [
    "#deleting column from dataframe\n",
    "#  1. del() function -------del df['col name']\n",
    "#  2. pop() function -------pop.df['col name']"
   ]
  },
  {
   "cell_type": "code",
   "execution_count": 43,
   "id": "93f21d6e",
   "metadata": {},
   "outputs": [
    {
     "name": "stdout",
     "output_type": "stream",
     "text": [
      "   Two  Three  Four\n",
      "0    1      5   2.0\n",
      "1    2      6   4.0\n",
      "2    3      7   6.0\n",
      "3    4      8   NaN\n"
     ]
    }
   ],
   "source": [
    "del df['one']\n",
    "print(df)"
   ]
  },
  {
   "cell_type": "code",
   "execution_count": 45,
   "id": "4ac32958",
   "metadata": {},
   "outputs": [
    {
     "data": {
      "text/plain": [
       "0    2.0\n",
       "1    4.0\n",
       "2    6.0\n",
       "3    NaN\n",
       "Name: Four, dtype: float64"
      ]
     },
     "execution_count": 45,
     "metadata": {},
     "output_type": "execute_result"
    }
   ],
   "source": [
    "df.pop('Four')"
   ]
  },
  {
   "cell_type": "code",
   "execution_count": 46,
   "id": "0fb4c2b5",
   "metadata": {},
   "outputs": [
    {
     "name": "stdout",
     "output_type": "stream",
     "text": [
      "   Two  Three\n",
      "0    1      5\n",
      "1    2      6\n",
      "2    3      7\n",
      "3    4      8\n"
     ]
    }
   ],
   "source": [
    "print(df)"
   ]
  },
  {
   "cell_type": "code",
   "execution_count": 3,
   "id": "cb4706bd",
   "metadata": {},
   "outputs": [
    {
     "name": "stdout",
     "output_type": "stream",
     "text": [
      "   one  Two\n",
      "a  1.0    1\n",
      "b  2.0    2\n",
      "c  3.0    3\n",
      "d  NaN    4\n",
      "one    2.0\n",
      "Two    2.0\n",
      "Name: b, dtype: float64\n"
     ]
    }
   ],
   "source": [
    "#Row selectio y label------------   loc()\n",
    "# Rows can be selected by passing row label to a loc function.\n",
    "import pandas as pd\n",
    "data={'one':pd.Series([1,2,3],index=['a','b','c']),\n",
    "      'Two':pd.Series([1,2,3,4],index=['a','b','c','d'] )}\n",
    "df=pd.DataFrame(data)\n",
    "print(df)\n",
    "print(df.loc['b'])"
   ]
  },
  {
   "cell_type": "code",
   "execution_count": 52,
   "id": "d0304bbe",
   "metadata": {},
   "outputs": [
    {
     "name": "stdout",
     "output_type": "stream",
     "text": [
      "   one  Two\n",
      "a  1.0    1\n",
      "b  2.0    2\n",
      "c  3.0    3\n",
      "d  NaN    4\n"
     ]
    }
   ],
   "source": [
    "#iloc()---- Passing integer location to iloc() function\n",
    "print(df)"
   ]
  },
  {
   "cell_type": "code",
   "execution_count": 53,
   "id": "90a66ca0",
   "metadata": {},
   "outputs": [
    {
     "name": "stdout",
     "output_type": "stream",
     "text": [
      "one    3.0\n",
      "Two    3.0\n",
      "Name: c, dtype: float64\n"
     ]
    }
   ],
   "source": [
    "print(df.iloc[2])"
   ]
  },
  {
   "cell_type": "code",
   "execution_count": 4,
   "id": "322c961b",
   "metadata": {},
   "outputs": [
    {
     "name": "stdout",
     "output_type": "stream",
     "text": [
      "   one  Two\n",
      "a  1.0    1\n",
      "b  2.0    2\n",
      "c  3.0    3\n",
      "d  NaN    4\n"
     ]
    }
   ],
   "source": [
    "#Slicing rows---------- Multiple rows can be selected using ‘ : ’ operator.\n",
    "print(df[:])"
   ]
  },
  {
   "cell_type": "code",
   "execution_count": 6,
   "id": "b5c0d2c5",
   "metadata": {},
   "outputs": [
    {
     "name": "stdout",
     "output_type": "stream",
     "text": [
      "   one  Two\n",
      "c  3.0    3\n",
      "d  NaN    4\n"
     ]
    }
   ],
   "source": [
    "print(df[2:4])"
   ]
  },
  {
   "cell_type": "code",
   "execution_count": 63,
   "id": "074f418c",
   "metadata": {},
   "outputs": [
    {
     "name": "stdout",
     "output_type": "stream",
     "text": [
      "   a  b\n",
      "0  1  2\n",
      "1  3  4\n",
      "0  5  6\n",
      "1  7  8\n"
     ]
    }
   ],
   "source": [
    "#Addition of Rows-------------- append()\n",
    "df1=pd.DataFrame([[1,2],[3,4]],columns=['a','b'])\n",
    "df2=pd.DataFrame([[5,6],[7,8]],columns=['a','b'])\n",
    "df1=df1.append(df2)\n",
    "print(df1)"
   ]
  },
  {
   "cell_type": "code",
   "execution_count": 61,
   "id": "12b5aa75",
   "metadata": {},
   "outputs": [
    {
     "name": "stdout",
     "output_type": "stream",
     "text": [
      "   0  1     2\n",
      "0  1  2   3.0\n",
      "1  4  5   NaN\n",
      "0  6  7   NaN\n",
      "1  8  9  10.0\n"
     ]
    }
   ],
   "source": [
    "df=pd.DataFrame([[1,2,3],[4,5]])\n",
    "df1=pd.DataFrame([[6,7],[8,9,10]])\n",
    "df=df.append(df1)\n",
    "print(df)"
   ]
  },
  {
   "cell_type": "code",
   "execution_count": 64,
   "id": "37637230",
   "metadata": {},
   "outputs": [
    {
     "data": {
      "text/html": [
       "<div>\n",
       "<style scoped>\n",
       "    .dataframe tbody tr th:only-of-type {\n",
       "        vertical-align: middle;\n",
       "    }\n",
       "\n",
       "    .dataframe tbody tr th {\n",
       "        vertical-align: top;\n",
       "    }\n",
       "\n",
       "    .dataframe thead th {\n",
       "        text-align: right;\n",
       "    }\n",
       "</style>\n",
       "<table border=\"1\" class=\"dataframe\">\n",
       "  <thead>\n",
       "    <tr style=\"text-align: right;\">\n",
       "      <th></th>\n",
       "      <th>0</th>\n",
       "      <th>1</th>\n",
       "      <th>2</th>\n",
       "    </tr>\n",
       "  </thead>\n",
       "  <tbody>\n",
       "    <tr>\n",
       "      <th>1</th>\n",
       "      <td>4</td>\n",
       "      <td>5</td>\n",
       "      <td>NaN</td>\n",
       "    </tr>\n",
       "    <tr>\n",
       "      <th>1</th>\n",
       "      <td>8</td>\n",
       "      <td>9</td>\n",
       "      <td>10.0</td>\n",
       "    </tr>\n",
       "  </tbody>\n",
       "</table>\n",
       "</div>"
      ],
      "text/plain": [
       "   0  1     2\n",
       "1  4  5   NaN\n",
       "1  8  9  10.0"
      ]
     },
     "execution_count": 64,
     "metadata": {},
     "output_type": "execute_result"
    }
   ],
   "source": [
    "#deleting from dataframe\n",
    "# Use index label to delete or drop rows from a DataFrame. If label is duplicated, then multiple rows will be dropped.\n",
    "res=df.drop(0)\n",
    "print(res)"
   ]
  },
  {
   "cell_type": "code",
   "execution_count": 65,
   "id": "9d7a5a93",
   "metadata": {},
   "outputs": [],
   "source": [
    "#Pandas Panel--- A panel is a 3D container of data"
   ]
  },
  {
   "cell_type": "code",
   "execution_count": 66,
   "id": "7885da70",
   "metadata": {},
   "outputs": [],
   "source": [
    "#creating empty panel\n",
    "#   pandas.Panel(data, items, major_axis, minor_axis, dtype, copy)"
   ]
  },
  {
   "cell_type": "code",
   "execution_count": 72,
   "id": "c7284493",
   "metadata": {},
   "outputs": [
    {
     "name": "stdout",
     "output_type": "stream",
     "text": [
      "0    0.115309\n",
      "1    0.923570\n",
      "2    0.044802\n",
      "3    0.834031\n",
      "4    0.775903\n",
      "5    0.956449\n",
      "6    0.815267\n",
      "7    0.989230\n",
      "8    0.004914\n",
      "9    0.576033\n",
      "dtype: float64\n"
     ]
    }
   ],
   "source": [
    "#Basic Functioality of Series\n",
    "import pandas as pd\n",
    "import numpy as np\n",
    "data=pd.Series(np.random.rand(10))\n",
    "print(data)"
   ]
  },
  {
   "cell_type": "code",
   "execution_count": 73,
   "id": "c63c672f",
   "metadata": {},
   "outputs": [
    {
     "data": {
      "text/plain": [
       "[RangeIndex(start=0, stop=10, step=1)]"
      ]
     },
     "execution_count": 73,
     "metadata": {},
     "output_type": "execute_result"
    }
   ],
   "source": [
    "#Returns the list of the labels of the series.\n",
    "data.axes"
   ]
  },
  {
   "cell_type": "code",
   "execution_count": 84,
   "id": "c45be134",
   "metadata": {},
   "outputs": [
    {
     "data": {
      "text/plain": [
       "False"
      ]
     },
     "execution_count": 84,
     "metadata": {},
     "output_type": "execute_result"
    }
   ],
   "source": [
    "#empty\n",
    "#Returns the Boolean value saying whether the Object is empty or not. True indicates that the object is empty.\n",
    "import pandas as pd\n",
    "import numpy as np\n",
    "data=pd.Series(np.random.rand(10))\n",
    "data.empty"
   ]
  },
  {
   "cell_type": "code",
   "execution_count": 75,
   "id": "d4d98217",
   "metadata": {},
   "outputs": [
    {
     "name": "stderr",
     "output_type": "stream",
     "text": [
      "C:\\Users\\admin\\AppData\\Local\\Temp/ipykernel_11892/2432975612.py:3: DeprecationWarning: The default dtype for empty Series will be 'object' instead of 'float64' in a future version. Specify a dtype explicitly to silence this warning.\n",
      "  data=pd.Series()\n"
     ]
    },
    {
     "data": {
      "text/plain": [
       "True"
      ]
     },
     "execution_count": 75,
     "metadata": {},
     "output_type": "execute_result"
    }
   ],
   "source": [
    "import pandas as pd\n",
    "import numpy as np\n",
    "data=pd.Series()\n",
    "data.empty"
   ]
  },
  {
   "cell_type": "code",
   "execution_count": 79,
   "id": "8d9131cb",
   "metadata": {},
   "outputs": [
    {
     "data": {
      "text/plain": [
       "1"
      ]
     },
     "execution_count": 79,
     "metadata": {},
     "output_type": "execute_result"
    }
   ],
   "source": [
    "#ndim\n",
    "#Returns the number of dimensions of the object. By definition, a Series is a 1D data structure, so it returns\n",
    "data.ndim"
   ]
  },
  {
   "cell_type": "code",
   "execution_count": 82,
   "id": "586d1627",
   "metadata": {},
   "outputs": [
    {
     "data": {
      "text/plain": [
       "3"
      ]
     },
     "execution_count": 82,
     "metadata": {},
     "output_type": "execute_result"
    }
   ],
   "source": [
    "#size\n",
    "#Returns the size(length) of the series\n",
    "import pandas as pd\n",
    "import numpy as np\n",
    "data=pd.Series(np.random.rand(3))\n",
    "data.size"
   ]
  },
  {
   "cell_type": "code",
   "execution_count": 86,
   "id": "098e9d8f",
   "metadata": {},
   "outputs": [
    {
     "name": "stdout",
     "output_type": "stream",
     "text": [
      "[0.18770297 0.85802174 0.28585058]\n"
     ]
    }
   ],
   "source": [
    "#values\n",
    "#Returns the actual data in the series as an array.\n",
    "import pandas as pd\n",
    "import numpy as np\n",
    "data=pd.Series(np.random.rand(3))\n",
    "print(data.values)"
   ]
  },
  {
   "cell_type": "code",
   "execution_count": 89,
   "id": "d5b13424",
   "metadata": {},
   "outputs": [
    {
     "name": "stdout",
     "output_type": "stream",
     "text": [
      "0    1\n",
      "1    2\n",
      "2    3\n",
      "3    4\n",
      "4    5\n",
      "dtype: int64\n",
      "8      9\n",
      "9     10\n",
      "10    11\n",
      "11    12\n",
      "12    13\n",
      "dtype: int64\n"
     ]
    }
   ],
   "source": [
    "# head() returns the first n rows\n",
    "# tail() returns the last n rows\n",
    "import pandas as pd\n",
    "import numpy as np\n",
    "data=[1,2,3,4,5,6,7,8,9,10,11,12,13]\n",
    "s=pd.Series(data)\n",
    "print(s.head())\n",
    "print(s.tail())"
   ]
  },
  {
   "cell_type": "code",
   "execution_count": null,
   "id": "38a2410c",
   "metadata": {},
   "outputs": [],
   "source": [
    "#Basic Functionality of Dataframe\n",
    "'''\n",
    "1. Transpose ------Transposes rows and columns.\n",
    "2.axes  ------Returns a list with the row axis labels and column axis labels as the only members.\n",
    "3.dtypes -- Returns the data type of each column.\n",
    "4.empty ---- Returns the Boolean value saying whether the Object is empty or not; True indicates that the object is empty.\n",
    "5.ndim ----Returns the number of dimensions of the object. By definition, DataFrame is a 2D object.\n",
    "6.shape ---Tuple (a,b), where a represents the number of rows and b represents the number of columns.\n",
    "7.size -----Returns the number of elements in the DataFrame.\n",
    "8.values ----- Returns the actual data in the DataFrame as an NDarray.\n",
    "9.head()---- first n rows\n",
    "10.tail() --------last n rows\n",
    "'''"
   ]
  },
  {
   "cell_type": "code",
   "execution_count": 90,
   "id": "fc2a829d",
   "metadata": {},
   "outputs": [],
   "source": [
    "# Create dataframe from dict of series"
   ]
  },
  {
   "cell_type": "code",
   "execution_count": 91,
   "id": "038dd778",
   "metadata": {},
   "outputs": [
    {
     "name": "stdout",
     "output_type": "stream",
     "text": [
      "      Name  Age\n",
      "0     Rudu    1\n",
      "1    Dyanu    2\n",
      "2     Devu    3\n",
      "3  Bhargav    4\n"
     ]
    }
   ],
   "source": [
    "import pandas as pd\n",
    "import numpy as np\n",
    "data={\n",
    "    'Name':pd.Series(['Rudu','Dyanu','Devu','Bhargav']),\n",
    "    'Age' :pd.Series([1,2,3,4])\n",
    "}\n",
    "df=pd.DataFrame(data)\n",
    "print(df)"
   ]
  },
  {
   "cell_type": "code",
   "execution_count": 92,
   "id": "b8977958",
   "metadata": {},
   "outputs": [
    {
     "data": {
      "text/html": [
       "<div>\n",
       "<style scoped>\n",
       "    .dataframe tbody tr th:only-of-type {\n",
       "        vertical-align: middle;\n",
       "    }\n",
       "\n",
       "    .dataframe tbody tr th {\n",
       "        vertical-align: top;\n",
       "    }\n",
       "\n",
       "    .dataframe thead th {\n",
       "        text-align: right;\n",
       "    }\n",
       "</style>\n",
       "<table border=\"1\" class=\"dataframe\">\n",
       "  <thead>\n",
       "    <tr style=\"text-align: right;\">\n",
       "      <th></th>\n",
       "      <th>0</th>\n",
       "      <th>1</th>\n",
       "      <th>2</th>\n",
       "      <th>3</th>\n",
       "    </tr>\n",
       "  </thead>\n",
       "  <tbody>\n",
       "    <tr>\n",
       "      <th>Name</th>\n",
       "      <td>Rudu</td>\n",
       "      <td>Dyanu</td>\n",
       "      <td>Devu</td>\n",
       "      <td>Bhargav</td>\n",
       "    </tr>\n",
       "    <tr>\n",
       "      <th>Age</th>\n",
       "      <td>1</td>\n",
       "      <td>2</td>\n",
       "      <td>3</td>\n",
       "      <td>4</td>\n",
       "    </tr>\n",
       "  </tbody>\n",
       "</table>\n",
       "</div>"
      ],
      "text/plain": [
       "         0      1     2        3\n",
       "Name  Rudu  Dyanu  Devu  Bhargav\n",
       "Age      1      2     3        4"
      ]
     },
     "execution_count": 92,
     "metadata": {},
     "output_type": "execute_result"
    }
   ],
   "source": [
    "df.T"
   ]
  },
  {
   "cell_type": "code",
   "execution_count": 94,
   "id": "e1981dbb",
   "metadata": {},
   "outputs": [
    {
     "data": {
      "text/plain": [
       "[RangeIndex(start=0, stop=4, step=1), Index(['Name', 'Age'], dtype='object')]"
      ]
     },
     "execution_count": 94,
     "metadata": {},
     "output_type": "execute_result"
    }
   ],
   "source": [
    "df.axes"
   ]
  },
  {
   "cell_type": "code",
   "execution_count": 96,
   "id": "581953a3",
   "metadata": {},
   "outputs": [
    {
     "data": {
      "text/plain": [
       "Name    object\n",
       "Age      int64\n",
       "dtype: object"
      ]
     },
     "execution_count": 96,
     "metadata": {},
     "output_type": "execute_result"
    }
   ],
   "source": [
    "df.dtypes"
   ]
  },
  {
   "cell_type": "code",
   "execution_count": 97,
   "id": "5f88c5a1",
   "metadata": {},
   "outputs": [
    {
     "data": {
      "text/plain": [
       "False"
      ]
     },
     "execution_count": 97,
     "metadata": {},
     "output_type": "execute_result"
    }
   ],
   "source": [
    "df.empty"
   ]
  },
  {
   "cell_type": "code",
   "execution_count": 98,
   "id": "66adebf5",
   "metadata": {},
   "outputs": [
    {
     "data": {
      "text/plain": [
       "2"
      ]
     },
     "execution_count": 98,
     "metadata": {},
     "output_type": "execute_result"
    }
   ],
   "source": [
    "df.ndim"
   ]
  },
  {
   "cell_type": "code",
   "execution_count": 99,
   "id": "07d12272",
   "metadata": {},
   "outputs": [
    {
     "data": {
      "text/plain": [
       "(4, 2)"
      ]
     },
     "execution_count": 99,
     "metadata": {},
     "output_type": "execute_result"
    }
   ],
   "source": [
    "df.shape"
   ]
  },
  {
   "cell_type": "code",
   "execution_count": 100,
   "id": "e2c048e5",
   "metadata": {},
   "outputs": [
    {
     "data": {
      "text/plain": [
       "8"
      ]
     },
     "execution_count": 100,
     "metadata": {},
     "output_type": "execute_result"
    }
   ],
   "source": [
    "df.size"
   ]
  },
  {
   "cell_type": "code",
   "execution_count": 101,
   "id": "f3b502c2",
   "metadata": {},
   "outputs": [
    {
     "data": {
      "text/plain": [
       "array([['Rudu', 1],\n",
       "       ['Dyanu', 2],\n",
       "       ['Devu', 3],\n",
       "       ['Bhargav', 4]], dtype=object)"
      ]
     },
     "execution_count": 101,
     "metadata": {},
     "output_type": "execute_result"
    }
   ],
   "source": [
    "df.values"
   ]
  },
  {
   "cell_type": "code",
   "execution_count": 104,
   "id": "b06ae5b3",
   "metadata": {},
   "outputs": [
    {
     "data": {
      "text/html": [
       "<div>\n",
       "<style scoped>\n",
       "    .dataframe tbody tr th:only-of-type {\n",
       "        vertical-align: middle;\n",
       "    }\n",
       "\n",
       "    .dataframe tbody tr th {\n",
       "        vertical-align: top;\n",
       "    }\n",
       "\n",
       "    .dataframe thead th {\n",
       "        text-align: right;\n",
       "    }\n",
       "</style>\n",
       "<table border=\"1\" class=\"dataframe\">\n",
       "  <thead>\n",
       "    <tr style=\"text-align: right;\">\n",
       "      <th></th>\n",
       "      <th>Name</th>\n",
       "      <th>Age</th>\n",
       "    </tr>\n",
       "  </thead>\n",
       "  <tbody>\n",
       "    <tr>\n",
       "      <th>0</th>\n",
       "      <td>Rudu</td>\n",
       "      <td>1</td>\n",
       "    </tr>\n",
       "    <tr>\n",
       "      <th>1</th>\n",
       "      <td>Dyanu</td>\n",
       "      <td>2</td>\n",
       "    </tr>\n",
       "  </tbody>\n",
       "</table>\n",
       "</div>"
      ],
      "text/plain": [
       "    Name  Age\n",
       "0   Rudu    1\n",
       "1  Dyanu    2"
      ]
     },
     "execution_count": 104,
     "metadata": {},
     "output_type": "execute_result"
    }
   ],
   "source": [
    "df.head(2)"
   ]
  },
  {
   "cell_type": "code",
   "execution_count": 105,
   "id": "5e10deb2",
   "metadata": {},
   "outputs": [
    {
     "data": {
      "text/html": [
       "<div>\n",
       "<style scoped>\n",
       "    .dataframe tbody tr th:only-of-type {\n",
       "        vertical-align: middle;\n",
       "    }\n",
       "\n",
       "    .dataframe tbody tr th {\n",
       "        vertical-align: top;\n",
       "    }\n",
       "\n",
       "    .dataframe thead th {\n",
       "        text-align: right;\n",
       "    }\n",
       "</style>\n",
       "<table border=\"1\" class=\"dataframe\">\n",
       "  <thead>\n",
       "    <tr style=\"text-align: right;\">\n",
       "      <th></th>\n",
       "      <th>Name</th>\n",
       "      <th>Age</th>\n",
       "    </tr>\n",
       "  </thead>\n",
       "  <tbody>\n",
       "    <tr>\n",
       "      <th>2</th>\n",
       "      <td>Devu</td>\n",
       "      <td>3</td>\n",
       "    </tr>\n",
       "    <tr>\n",
       "      <th>3</th>\n",
       "      <td>Bhargav</td>\n",
       "      <td>4</td>\n",
       "    </tr>\n",
       "  </tbody>\n",
       "</table>\n",
       "</div>"
      ],
      "text/plain": [
       "      Name  Age\n",
       "2     Devu    3\n",
       "3  Bhargav    4"
      ]
     },
     "execution_count": 105,
     "metadata": {},
     "output_type": "execute_result"
    }
   ],
   "source": [
    "df.tail(2)"
   ]
  },
  {
   "cell_type": "code",
   "execution_count": 160,
   "id": "f302e92b",
   "metadata": {},
   "outputs": [
    {
     "data": {
      "text/html": [
       "<div>\n",
       "<style scoped>\n",
       "    .dataframe tbody tr th:only-of-type {\n",
       "        vertical-align: middle;\n",
       "    }\n",
       "\n",
       "    .dataframe tbody tr th {\n",
       "        vertical-align: top;\n",
       "    }\n",
       "\n",
       "    .dataframe thead th {\n",
       "        text-align: right;\n",
       "    }\n",
       "</style>\n",
       "<table border=\"1\" class=\"dataframe\">\n",
       "  <thead>\n",
       "    <tr style=\"text-align: right;\">\n",
       "      <th></th>\n",
       "      <th>Name</th>\n",
       "      <th>Age</th>\n",
       "      <th>Rating</th>\n",
       "    </tr>\n",
       "  </thead>\n",
       "  <tbody>\n",
       "    <tr>\n",
       "      <th>a</th>\n",
       "      <td>Rudu</td>\n",
       "      <td>1</td>\n",
       "      <td>23</td>\n",
       "    </tr>\n",
       "    <tr>\n",
       "      <th>b</th>\n",
       "      <td>Dyanu</td>\n",
       "      <td>2</td>\n",
       "      <td>43</td>\n",
       "    </tr>\n",
       "    <tr>\n",
       "      <th>c</th>\n",
       "      <td>Devu</td>\n",
       "      <td>3</td>\n",
       "      <td>65</td>\n",
       "    </tr>\n",
       "    <tr>\n",
       "      <th>d</th>\n",
       "      <td>Bhargav</td>\n",
       "      <td>4</td>\n",
       "      <td>12</td>\n",
       "    </tr>\n",
       "  </tbody>\n",
       "</table>\n",
       "</div>"
      ],
      "text/plain": [
       "      Name  Age  Rating\n",
       "a     Rudu    1      23\n",
       "b    Dyanu    2      43\n",
       "c     Devu    3      65\n",
       "d  Bhargav    4      12"
      ]
     },
     "execution_count": 160,
     "metadata": {},
     "output_type": "execute_result"
    }
   ],
   "source": [
    "df"
   ]
  },
  {
   "cell_type": "code",
   "execution_count": 151,
   "id": "3363c5b0",
   "metadata": {},
   "outputs": [
    {
     "name": "stdout",
     "output_type": "stream",
     "text": [
      "      Name  Age  Rating\n",
      "a     Rudu    1      23\n",
      "b    Dyanu    2      43\n",
      "c     Devu    3      65\n",
      "d  Bhargav    4      12\n"
     ]
    },
    {
     "data": {
      "text/plain": [
       "Name      RuduDyanuDevuBhargav\n",
       "Age                         10\n",
       "Rating                     143\n",
       "dtype: object"
      ]
     },
     "execution_count": 151,
     "metadata": {},
     "output_type": "execute_result"
    }
   ],
   "source": [
    "# sum() ---- Returns the sum of the values for the requested axis. By default, axis is index (axis=0).-- column wise\n",
    "#            if axis=1 -------print df.sum(1)----row wise addition\n",
    "\n",
    "#mean()      -----Returns the average value\n",
    "#std()      ------- Returns the Bressel standard deviation of the numerical columns.\n",
    "\n",
    "\n",
    "import pandas as pd\n",
    "import numpy as np\n",
    "data={\n",
    "    'Name':pd.Series(['Rudu','Dyanu','Devu','Bhargav'],index=['a','b','c','d']),\n",
    "    'Age' :pd.Series([1,2,3,4],index=['a','b','c','d']),\n",
    "    'Rating':pd.Series([23,43,65,12],index=['a','b','c','d'])\n",
    "}\n",
    "df=pd.DataFrame(data)\n",
    "print(df)\n",
    "df.sum()"
   ]
  },
  {
   "cell_type": "code",
   "execution_count": 152,
   "id": "e93004d2",
   "metadata": {},
   "outputs": [
    {
     "data": {
      "text/plain": [
       "Name      RuduDyanuDevuBhargav\n",
       "Age                         10\n",
       "Rating                     143\n",
       "dtype: object"
      ]
     },
     "execution_count": 152,
     "metadata": {},
     "output_type": "execute_result"
    }
   ],
   "source": [
    "#axix=0 column wise sum\n",
    "df.sum(axis=0)"
   ]
  },
  {
   "cell_type": "code",
   "execution_count": 153,
   "id": "96d713fa",
   "metadata": {},
   "outputs": [
    {
     "name": "stderr",
     "output_type": "stream",
     "text": [
      "C:\\Users\\admin\\AppData\\Local\\Temp/ipykernel_11892/526948045.py:2: FutureWarning: Dropping of nuisance columns in DataFrame reductions (with 'numeric_only=None') is deprecated; in a future version this will raise TypeError.  Select only valid columns before calling the reduction.\n",
      "  df.sum(axis=1)\n"
     ]
    },
    {
     "data": {
      "text/plain": [
       "a    24\n",
       "b    45\n",
       "c    68\n",
       "d    16\n",
       "dtype: int64"
      ]
     },
     "execution_count": 153,
     "metadata": {},
     "output_type": "execute_result"
    }
   ],
   "source": [
    "#axis=1 rowwise sum\n",
    "df.sum(axis=1)"
   ]
  },
  {
   "cell_type": "code",
   "execution_count": 159,
   "id": "d6d52f70",
   "metadata": {},
   "outputs": [
    {
     "data": {
      "text/plain": [
       "Name      Rudu\n",
       "Age          1\n",
       "Rating      23\n",
       "Name: a, dtype: object"
      ]
     },
     "execution_count": 159,
     "metadata": {},
     "output_type": "execute_result"
    }
   ],
   "source": [
    "df.loc['a']      #or df.iloc[0]"
   ]
  },
  {
   "cell_type": "code",
   "execution_count": 161,
   "id": "0a424442",
   "metadata": {},
   "outputs": [
    {
     "name": "stderr",
     "output_type": "stream",
     "text": [
      "C:\\Users\\admin\\AppData\\Local\\Temp/ipykernel_11892/2681518468.py:1: FutureWarning: Dropping of nuisance columns in DataFrame reductions (with 'numeric_only=None') is deprecated; in a future version this will raise TypeError.  Select only valid columns before calling the reduction.\n",
      "  df.mean(axis=0)\n"
     ]
    },
    {
     "data": {
      "text/plain": [
       "Age        2.50\n",
       "Rating    35.75\n",
       "dtype: float64"
      ]
     },
     "execution_count": 161,
     "metadata": {},
     "output_type": "execute_result"
    }
   ],
   "source": [
    "df.mean(axis=0)      #colum wise mean"
   ]
  },
  {
   "cell_type": "markdown",
   "id": "8319a6e1",
   "metadata": {},
   "source": []
  },
  {
   "cell_type": "code",
   "execution_count": 162,
   "id": "e80de959",
   "metadata": {},
   "outputs": [
    {
     "name": "stderr",
     "output_type": "stream",
     "text": [
      "C:\\Users\\admin\\AppData\\Local\\Temp/ipykernel_11892/622704754.py:1: FutureWarning: Dropping of nuisance columns in DataFrame reductions (with 'numeric_only=None') is deprecated; in a future version this will raise TypeError.  Select only valid columns before calling the reduction.\n",
      "  df.mean(axis=1)\n"
     ]
    },
    {
     "data": {
      "text/plain": [
       "a    12.0\n",
       "b    22.5\n",
       "c    34.0\n",
       "d     8.0\n",
       "dtype: float64"
      ]
     },
     "execution_count": 162,
     "metadata": {},
     "output_type": "execute_result"
    }
   ],
   "source": [
    "df.mean(axis=1)         #row wise mean"
   ]
  },
  {
   "cell_type": "code",
   "execution_count": 163,
   "id": "a118de4c",
   "metadata": {},
   "outputs": [
    {
     "name": "stderr",
     "output_type": "stream",
     "text": [
      "C:\\Users\\admin\\AppData\\Local\\Temp/ipykernel_11892/3698961737.py:1: FutureWarning: Dropping of nuisance columns in DataFrame reductions (with 'numeric_only=None') is deprecated; in a future version this will raise TypeError.  Select only valid columns before calling the reduction.\n",
      "  df.mean()\n"
     ]
    },
    {
     "data": {
      "text/plain": [
       "Age        2.50\n",
       "Rating    35.75\n",
       "dtype: float64"
      ]
     },
     "execution_count": 163,
     "metadata": {},
     "output_type": "execute_result"
    }
   ],
   "source": [
    "df.mean()          #by default column wise mean will get calculated"
   ]
  },
  {
   "cell_type": "code",
   "execution_count": 165,
   "id": "78c2bfb6",
   "metadata": {},
   "outputs": [
    {
     "name": "stderr",
     "output_type": "stream",
     "text": [
      "C:\\Users\\admin\\AppData\\Local\\Temp/ipykernel_11892/3390915376.py:1: FutureWarning: Dropping of nuisance columns in DataFrame reductions (with 'numeric_only=None') is deprecated; in a future version this will raise TypeError.  Select only valid columns before calling the reduction.\n",
      "  df.std()\n"
     ]
    },
    {
     "data": {
      "text/plain": [
       "Age        1.290994\n",
       "Rating    23.343450\n",
       "dtype: float64"
      ]
     },
     "execution_count": 165,
     "metadata": {},
     "output_type": "execute_result"
    }
   ],
   "source": [
    "df.std()"
   ]
  },
  {
   "cell_type": "code",
   "execution_count": 166,
   "id": "6488c362",
   "metadata": {},
   "outputs": [
    {
     "data": {
      "text/html": [
       "<div>\n",
       "<style scoped>\n",
       "    .dataframe tbody tr th:only-of-type {\n",
       "        vertical-align: middle;\n",
       "    }\n",
       "\n",
       "    .dataframe tbody tr th {\n",
       "        vertical-align: top;\n",
       "    }\n",
       "\n",
       "    .dataframe thead th {\n",
       "        text-align: right;\n",
       "    }\n",
       "</style>\n",
       "<table border=\"1\" class=\"dataframe\">\n",
       "  <thead>\n",
       "    <tr style=\"text-align: right;\">\n",
       "      <th></th>\n",
       "      <th>Age</th>\n",
       "      <th>Rating</th>\n",
       "    </tr>\n",
       "  </thead>\n",
       "  <tbody>\n",
       "    <tr>\n",
       "      <th>count</th>\n",
       "      <td>4.000000</td>\n",
       "      <td>4.00000</td>\n",
       "    </tr>\n",
       "    <tr>\n",
       "      <th>mean</th>\n",
       "      <td>2.500000</td>\n",
       "      <td>35.75000</td>\n",
       "    </tr>\n",
       "    <tr>\n",
       "      <th>std</th>\n",
       "      <td>1.290994</td>\n",
       "      <td>23.34345</td>\n",
       "    </tr>\n",
       "    <tr>\n",
       "      <th>min</th>\n",
       "      <td>1.000000</td>\n",
       "      <td>12.00000</td>\n",
       "    </tr>\n",
       "    <tr>\n",
       "      <th>25%</th>\n",
       "      <td>1.750000</td>\n",
       "      <td>20.25000</td>\n",
       "    </tr>\n",
       "    <tr>\n",
       "      <th>50%</th>\n",
       "      <td>2.500000</td>\n",
       "      <td>33.00000</td>\n",
       "    </tr>\n",
       "    <tr>\n",
       "      <th>75%</th>\n",
       "      <td>3.250000</td>\n",
       "      <td>48.50000</td>\n",
       "    </tr>\n",
       "    <tr>\n",
       "      <th>max</th>\n",
       "      <td>4.000000</td>\n",
       "      <td>65.00000</td>\n",
       "    </tr>\n",
       "  </tbody>\n",
       "</table>\n",
       "</div>"
      ],
      "text/plain": [
       "            Age    Rating\n",
       "count  4.000000   4.00000\n",
       "mean   2.500000  35.75000\n",
       "std    1.290994  23.34345\n",
       "min    1.000000  12.00000\n",
       "25%    1.750000  20.25000\n",
       "50%    2.500000  33.00000\n",
       "75%    3.250000  48.50000\n",
       "max    4.000000  65.00000"
      ]
     },
     "execution_count": 166,
     "metadata": {},
     "output_type": "execute_result"
    }
   ],
   "source": [
    "#describe() ----- computes a summary of statistics pertaining to the DataFrame columns.\n",
    "df.describe()"
   ]
  },
  {
   "cell_type": "code",
   "execution_count": 172,
   "id": "e362080f",
   "metadata": {},
   "outputs": [
    {
     "data": {
      "text/html": [
       "<div>\n",
       "<style scoped>\n",
       "    .dataframe tbody tr th:only-of-type {\n",
       "        vertical-align: middle;\n",
       "    }\n",
       "\n",
       "    .dataframe tbody tr th {\n",
       "        vertical-align: top;\n",
       "    }\n",
       "\n",
       "    .dataframe thead th {\n",
       "        text-align: right;\n",
       "    }\n",
       "</style>\n",
       "<table border=\"1\" class=\"dataframe\">\n",
       "  <thead>\n",
       "    <tr style=\"text-align: right;\">\n",
       "      <th></th>\n",
       "      <th>Name</th>\n",
       "    </tr>\n",
       "  </thead>\n",
       "  <tbody>\n",
       "    <tr>\n",
       "      <th>count</th>\n",
       "      <td>4</td>\n",
       "    </tr>\n",
       "    <tr>\n",
       "      <th>unique</th>\n",
       "      <td>4</td>\n",
       "    </tr>\n",
       "    <tr>\n",
       "      <th>top</th>\n",
       "      <td>Rudu</td>\n",
       "    </tr>\n",
       "    <tr>\n",
       "      <th>freq</th>\n",
       "      <td>1</td>\n",
       "    </tr>\n",
       "  </tbody>\n",
       "</table>\n",
       "</div>"
      ],
      "text/plain": [
       "        Name\n",
       "count      4\n",
       "unique     4\n",
       "top     Rudu\n",
       "freq       1"
      ]
     },
     "execution_count": 172,
     "metadata": {},
     "output_type": "execute_result"
    }
   ],
   "source": [
    "#  object − Summarizes String columns\n",
    "#  number − Summarizes Numeric columns\n",
    "#  all − Summarizes all columns together (Should not pass it as a list value)\n",
    "\n",
    "\n",
    "df.describe(include=[object])               "
   ]
  },
  {
   "cell_type": "code",
   "execution_count": 171,
   "id": "6ac32c1e",
   "metadata": {},
   "outputs": [
    {
     "data": {
      "text/html": [
       "<div>\n",
       "<style scoped>\n",
       "    .dataframe tbody tr th:only-of-type {\n",
       "        vertical-align: middle;\n",
       "    }\n",
       "\n",
       "    .dataframe tbody tr th {\n",
       "        vertical-align: top;\n",
       "    }\n",
       "\n",
       "    .dataframe thead th {\n",
       "        text-align: right;\n",
       "    }\n",
       "</style>\n",
       "<table border=\"1\" class=\"dataframe\">\n",
       "  <thead>\n",
       "    <tr style=\"text-align: right;\">\n",
       "      <th></th>\n",
       "      <th>Name</th>\n",
       "      <th>Age</th>\n",
       "      <th>Rating</th>\n",
       "    </tr>\n",
       "  </thead>\n",
       "  <tbody>\n",
       "    <tr>\n",
       "      <th>count</th>\n",
       "      <td>4</td>\n",
       "      <td>4.000000</td>\n",
       "      <td>4.00000</td>\n",
       "    </tr>\n",
       "    <tr>\n",
       "      <th>unique</th>\n",
       "      <td>4</td>\n",
       "      <td>NaN</td>\n",
       "      <td>NaN</td>\n",
       "    </tr>\n",
       "    <tr>\n",
       "      <th>top</th>\n",
       "      <td>Rudu</td>\n",
       "      <td>NaN</td>\n",
       "      <td>NaN</td>\n",
       "    </tr>\n",
       "    <tr>\n",
       "      <th>freq</th>\n",
       "      <td>1</td>\n",
       "      <td>NaN</td>\n",
       "      <td>NaN</td>\n",
       "    </tr>\n",
       "    <tr>\n",
       "      <th>mean</th>\n",
       "      <td>NaN</td>\n",
       "      <td>2.500000</td>\n",
       "      <td>35.75000</td>\n",
       "    </tr>\n",
       "    <tr>\n",
       "      <th>std</th>\n",
       "      <td>NaN</td>\n",
       "      <td>1.290994</td>\n",
       "      <td>23.34345</td>\n",
       "    </tr>\n",
       "    <tr>\n",
       "      <th>min</th>\n",
       "      <td>NaN</td>\n",
       "      <td>1.000000</td>\n",
       "      <td>12.00000</td>\n",
       "    </tr>\n",
       "    <tr>\n",
       "      <th>25%</th>\n",
       "      <td>NaN</td>\n",
       "      <td>1.750000</td>\n",
       "      <td>20.25000</td>\n",
       "    </tr>\n",
       "    <tr>\n",
       "      <th>50%</th>\n",
       "      <td>NaN</td>\n",
       "      <td>2.500000</td>\n",
       "      <td>33.00000</td>\n",
       "    </tr>\n",
       "    <tr>\n",
       "      <th>75%</th>\n",
       "      <td>NaN</td>\n",
       "      <td>3.250000</td>\n",
       "      <td>48.50000</td>\n",
       "    </tr>\n",
       "    <tr>\n",
       "      <th>max</th>\n",
       "      <td>NaN</td>\n",
       "      <td>4.000000</td>\n",
       "      <td>65.00000</td>\n",
       "    </tr>\n",
       "  </tbody>\n",
       "</table>\n",
       "</div>"
      ],
      "text/plain": [
       "        Name       Age    Rating\n",
       "count      4  4.000000   4.00000\n",
       "unique     4       NaN       NaN\n",
       "top     Rudu       NaN       NaN\n",
       "freq       1       NaN       NaN\n",
       "mean     NaN  2.500000  35.75000\n",
       "std      NaN  1.290994  23.34345\n",
       "min      NaN  1.000000  12.00000\n",
       "25%      NaN  1.750000  20.25000\n",
       "50%      NaN  2.500000  33.00000\n",
       "75%      NaN  3.250000  48.50000\n",
       "max      NaN  4.000000  65.00000"
      ]
     },
     "execution_count": 171,
     "metadata": {},
     "output_type": "execute_result"
    }
   ],
   "source": [
    "df.describe(include='all')  "
   ]
  },
  {
   "cell_type": "code",
   "execution_count": 174,
   "id": "b2dd7ed1",
   "metadata": {},
   "outputs": [
    {
     "data": {
      "text/plain": [
       "Name      4\n",
       "Age       4\n",
       "Rating    4\n",
       "dtype: int64"
      ]
     },
     "execution_count": 174,
     "metadata": {},
     "output_type": "execute_result"
    }
   ],
   "source": [
    "''' \n",
    "1. count()\tNumber of non-null observations\n",
    "2\tsum()\tSum of values\n",
    "3\tmean()\tMean of Values\n",
    "4\tmedian()\tMedian of Values\n",
    "5\tmode()\tMode of values\n",
    "6\tstd()\tStandard Deviation of the Values\n",
    "7\tmin()\tMinimum Value\n",
    "8\tmax()\tMaximum Value\n",
    "9\tabs()\tAbsolute Value\n",
    "10\tprod()\tProduct of Values\n",
    "11\tcumsum()\tCumulative Sum\n",
    "12\tcumprod()\tCumulative Product\n",
    "'''\n",
    "df.count()"
   ]
  },
  {
   "cell_type": "code",
   "execution_count": 175,
   "id": "11878fd8",
   "metadata": {},
   "outputs": [
    {
     "name": "stderr",
     "output_type": "stream",
     "text": [
      "C:\\Users\\admin\\AppData\\Local\\Temp/ipykernel_11892/530051474.py:1: FutureWarning: Dropping of nuisance columns in DataFrame reductions (with 'numeric_only=None') is deprecated; in a future version this will raise TypeError.  Select only valid columns before calling the reduction.\n",
      "  df.median()\n"
     ]
    },
    {
     "data": {
      "text/plain": [
       "Age        2.5\n",
       "Rating    33.0\n",
       "dtype: float64"
      ]
     },
     "execution_count": 175,
     "metadata": {},
     "output_type": "execute_result"
    }
   ],
   "source": [
    "df.median()"
   ]
  },
  {
   "cell_type": "code",
   "execution_count": 176,
   "id": "9b984346",
   "metadata": {},
   "outputs": [
    {
     "data": {
      "text/html": [
       "<div>\n",
       "<style scoped>\n",
       "    .dataframe tbody tr th:only-of-type {\n",
       "        vertical-align: middle;\n",
       "    }\n",
       "\n",
       "    .dataframe tbody tr th {\n",
       "        vertical-align: top;\n",
       "    }\n",
       "\n",
       "    .dataframe thead th {\n",
       "        text-align: right;\n",
       "    }\n",
       "</style>\n",
       "<table border=\"1\" class=\"dataframe\">\n",
       "  <thead>\n",
       "    <tr style=\"text-align: right;\">\n",
       "      <th></th>\n",
       "      <th>Name</th>\n",
       "      <th>Age</th>\n",
       "      <th>Rating</th>\n",
       "    </tr>\n",
       "  </thead>\n",
       "  <tbody>\n",
       "    <tr>\n",
       "      <th>0</th>\n",
       "      <td>Bhargav</td>\n",
       "      <td>1</td>\n",
       "      <td>12</td>\n",
       "    </tr>\n",
       "    <tr>\n",
       "      <th>1</th>\n",
       "      <td>Devu</td>\n",
       "      <td>2</td>\n",
       "      <td>23</td>\n",
       "    </tr>\n",
       "    <tr>\n",
       "      <th>2</th>\n",
       "      <td>Dyanu</td>\n",
       "      <td>3</td>\n",
       "      <td>43</td>\n",
       "    </tr>\n",
       "    <tr>\n",
       "      <th>3</th>\n",
       "      <td>Rudu</td>\n",
       "      <td>4</td>\n",
       "      <td>65</td>\n",
       "    </tr>\n",
       "  </tbody>\n",
       "</table>\n",
       "</div>"
      ],
      "text/plain": [
       "      Name  Age  Rating\n",
       "0  Bhargav    1      12\n",
       "1     Devu    2      23\n",
       "2    Dyanu    3      43\n",
       "3     Rudu    4      65"
      ]
     },
     "execution_count": 176,
     "metadata": {},
     "output_type": "execute_result"
    }
   ],
   "source": [
    "df.mode()"
   ]
  },
  {
   "cell_type": "code",
   "execution_count": 177,
   "id": "88ac1e89",
   "metadata": {},
   "outputs": [
    {
     "data": {
      "text/plain": [
       "Name      Bhargav\n",
       "Age             1\n",
       "Rating         12\n",
       "dtype: object"
      ]
     },
     "execution_count": 177,
     "metadata": {},
     "output_type": "execute_result"
    }
   ],
   "source": [
    "df.min()"
   ]
  },
  {
   "cell_type": "code",
   "execution_count": 202,
   "id": "46ba7be1",
   "metadata": {},
   "outputs": [
    {
     "name": "stdout",
     "output_type": "stream",
     "text": [
      "       col1      col2      col3\n",
      "0  0.645032  0.368105  0.879320\n",
      "1  0.983438  0.114039  0.085976\n",
      "2  0.692233  0.110654  0.199343\n",
      "3  0.996592  0.712997  0.803977\n",
      "4  0.577335  0.734827  0.935101\n",
      "       col1      col2      col3\n",
      "0  5.645032  5.368105  5.879320\n",
      "1  5.983438  5.114039  5.085976\n",
      "2  5.692233  5.110654  5.199343\n",
      "3  5.996592  5.712997  5.803977\n",
      "4  5.577335  5.734827  5.935101\n",
      "col1    0.778926\n",
      "col2    0.408124\n",
      "col3    0.580743\n",
      "dtype: float64\n"
     ]
    }
   ],
   "source": [
    "# Functions\n",
    "# The appropriate method to use depends on whether your function expects to operate on an entire DataFrame, row- or \n",
    "#column-wise, or element wise.\n",
    "\n",
    "# 1. Table wise Function Application:                     pipe()\n",
    "# 2. Row or Column Wise Function Application:             apply()\n",
    "# 3. Element wise Function Application:                   applymap()---dataframe    or map()-- series\n",
    "\n",
    "\n",
    "import pandas as pd\n",
    "import numpy as np\n",
    "\n",
    "def adder(ele1,ele2):\n",
    "    return ele1+ele2 \n",
    "\n",
    "df=pd.DataFrame(np.random.rand(5,3),columns=['col1','col2','col3'])\n",
    "print(df)\n",
    "print(df.pipe(adder,5) )       #----- ele1 will be each dataframe elemnent ,ele2 will be 5\n",
    "print(df.apply(np.mean))       #----- apply() will get applied to each column\n"
   ]
  },
  {
   "cell_type": "code",
   "execution_count": null,
   "id": "d94ed136",
   "metadata": {},
   "outputs": [],
   "source": [
    "#apply () method"
   ]
  },
  {
   "cell_type": "code",
   "execution_count": 226,
   "id": "24916f5a",
   "metadata": {},
   "outputs": [
    {
     "name": "stdout",
     "output_type": "stream",
     "text": [
      "   col1  col2\n",
      "0     1     2\n",
      "1     4     2\n",
      "2     5     2\n",
      "3     7     1\n",
      "0    2\n",
      "1    2\n",
      "2    2\n",
      "3    1\n",
      "Name: col1, dtype: int64\n",
      "0    2\n",
      "1    2\n",
      "2    2\n",
      "3    2\n",
      "Name: col2, dtype: int64\n"
     ]
    }
   ],
   "source": [
    "import pandas as pd\n",
    "import numpy as np\n",
    "\n",
    "def cal(x):\n",
    "    if x>5 and x>0:\n",
    "        return 1\n",
    "    else:\n",
    "        return 2\n",
    "df=pd.DataFrame(data={'col1':[1,4,5,7],'col2':[5,2,4,-]})\n",
    "df['col2']=df['col2'].apply(cal)\n",
    "print(df)\n",
    "\n",
    "\n",
    "# df=pd.DataFrame(data={0:[1,4,5,7],1:[5,2,4,8]})\n",
    "for i in df:\n",
    "    print(df[i].apply(cal))\n",
    " "
   ]
  },
  {
   "cell_type": "code",
   "execution_count": null,
   "id": "41c41f9a",
   "metadata": {},
   "outputs": [],
   "source": [
    "# applymap() -------accept any Python function taking a single value and returning a single value."
   ]
  },
  {
   "cell_type": "code",
   "execution_count": 231,
   "id": "67130d48",
   "metadata": {},
   "outputs": [],
   "source": [
    "#map() is a method of Series, applymap() is a method of DataFrame"
   ]
  },
  {
   "cell_type": "code",
   "execution_count": 244,
   "id": "f5573f0f",
   "metadata": {},
   "outputs": [
    {
     "name": "stdout",
     "output_type": "stream",
     "text": [
      "       col1      col2      col3\n",
      "0 -1.115242 -0.175701  0.402047\n",
      "1  1.690196 -0.050704  0.860048\n",
      "2  1.242648 -0.699899 -1.453246\n",
      "3  0.622187  2.812459 -0.442447\n",
      "4  0.572061  0.394459 -0.122118\n",
      "         col1        col2        col3\n",
      "0 -111.524236  -17.570078   40.204667\n",
      "1  169.019613   -5.070352   86.004775\n",
      "2  124.264836  -69.989948 -145.324567\n",
      "3   62.218695  281.245901  -44.244690\n",
      "4   57.206099   39.445869  -12.211824\n",
      "         col1        col2        col3\n",
      "0 -111.524236  -17.570078   40.204667\n",
      "1  169.019613   -5.070352   86.004775\n",
      "2  124.264836  -69.989948 -145.324567\n",
      "3   62.218695  281.245901  -44.244690\n",
      "4   57.206099   39.445869  -12.211824\n"
     ]
    }
   ],
   "source": [
    "import pandas as pd\n",
    "import numpy as np\n",
    "\n",
    "\n",
    "def mul(ele1):\n",
    "    return ele1*100\n",
    "\n",
    "# My custom function\n",
    "df = pd.DataFrame(np.random.randn(5,3),columns=['col1','col2','col3'])\n",
    "print(df)\n",
    "df1=df.applymap(lambda x:x*100)              # applymap() each element off df applied x*100\n",
    "print(df1)\n",
    "print(df.pipe(mul))                          "
   ]
  },
  {
   "cell_type": "code",
   "execution_count": 245,
   "id": "64806102",
   "metadata": {},
   "outputs": [],
   "source": [
    "# Reindexing ------Reindexing changes the row labels and column labels of a DataFrame\n",
    "#Reorder the existing data to match a new set of labels.\n",
    "#Insert missing value (NA) markers in label locations where no data for the label existed."
   ]
  },
  {
   "cell_type": "code",
   "execution_count": 2,
   "id": "de070f3c",
   "metadata": {},
   "outputs": [
    {
     "name": "stdout",
     "output_type": "stream",
     "text": [
      "            A     x         y       C           D\n",
      "0  2016-01-01   0.0  0.414872    High   89.161590\n",
      "1  2016-01-02   1.0  0.022255  Medium  105.902368\n",
      "2  2016-01-03   2.0  0.471175    High   96.804548\n",
      "3  2016-01-04   3.0  0.363258     Low  100.485030\n",
      "4  2016-01-05   4.0  0.554652    High  111.002977\n",
      "5  2016-01-06   5.0  0.981111    High   90.511365\n",
      "6  2016-01-07   6.0  0.216629    High  110.002614\n",
      "7  2016-01-08   7.0  0.959872  Medium  111.757696\n",
      "8  2016-01-09   8.0  0.619658     Low   86.273048\n",
      "9  2016-01-10   9.0  0.876903     Low   98.373509\n",
      "10 2016-01-11  10.0  0.910821     Low  108.961644\n",
      "11 2016-01-12  11.0  0.248003     Low   91.697280\n",
      "12 2016-01-13  12.0  0.067666  Medium  100.672585\n",
      "13 2016-01-14  13.0  0.464876    High   89.169638\n",
      "14 2016-01-15  14.0  0.431245  Medium   87.094576\n",
      "15 2016-01-16  15.0  0.142333     Low   98.257790\n",
      "16 2016-01-17  16.0  0.786158     Low   90.478600\n",
      "17 2016-01-18  17.0  0.086575     Low   84.633895\n",
      "18 2016-01-19  18.0  0.385197  Medium   96.273838\n",
      "19 2016-01-20  19.0  0.827152  Medium  104.986986\n",
      "            A   E   B\n",
      "0  2016-01-01 NaN NaN\n",
      "2  2016-01-03 NaN NaN\n",
      "5  2016-01-06 NaN NaN\n",
      "7  2016-01-08 NaN NaN\n",
      "9  2016-01-10 NaN NaN\n",
      "13 2016-01-14 NaN NaN\n",
      "17 2016-01-18 NaN NaN\n"
     ]
    }
   ],
   "source": [
    "import pandas as pd\n",
    "import numpy as np\n",
    "\n",
    "N=20\n",
    "\n",
    "df = pd.DataFrame({\n",
    "   'A': pd.date_range(start='2016-01-01',periods=N,freq='D'),\n",
    "   'x': np.linspace(0,stop=N-1,num=N),\n",
    "   'y': np.random.rand(N),\n",
    "   'C': np.random.choice(['Low','Medium','High'],N).tolist(),\n",
    "   'D': np.random.normal(100, 10, size=(N)).tolist()\n",
    "})\n",
    "print(df)\n",
    "df_reindex=df.reindex(index=(0,2,5,7,9,13,17),columns=['A','E','B'])\n",
    "print(df_reindex)\n"
   ]
  },
  {
   "cell_type": "code",
   "execution_count": 273,
   "id": "ccda72a6",
   "metadata": {},
   "outputs": [
    {
     "name": "stdout",
     "output_type": "stream",
     "text": [
      "         c1        c2        c3\n",
      "0 -1.382812  0.733687 -0.846825\n",
      "1 -2.242804  1.095152  0.428268\n",
      "2 -0.258804  0.384533  2.116867\n",
      "3 -0.668579  0.663003 -0.076762\n",
      "4 -0.137396 -0.943944  0.844609\n",
      "5 -0.823468  0.259482 -0.448273\n",
      "6  0.121529  0.774885  1.772265\n",
      "         c1        c2        c3\n",
      "0 -1.338300  0.224505  1.710089\n",
      "1  0.801065  1.859070 -0.500688\n",
      "2  0.004733 -0.491261 -0.128372\n",
      "         c1        c2        c3\n",
      "0 -1.338300  0.224505  1.710089\n",
      "1  0.801065  1.859070 -0.500688\n",
      "2  0.004733 -0.491261 -0.128372\n",
      "3       NaN       NaN       NaN\n",
      "4       NaN       NaN       NaN\n",
      "5       NaN       NaN       NaN\n",
      "6       NaN       NaN       NaN\n"
     ]
    }
   ],
   "source": [
    "#index_like\n",
    "import pandas as pd\n",
    "import numpy as np\n",
    "\n",
    "df1=pd.DataFrame(np.random.randn(7,3),columns=['c1','c2','c3'])\n",
    "df2=pd.DataFrame(np.random.randn(3,3),columns=['c1','c2','c3'])\n",
    "print(df1)\n",
    "print(df2)\n",
    "df2=df2.reindex_like(df1)\n",
    "print(df2)"
   ]
  },
  {
   "cell_type": "code",
   "execution_count": 286,
   "id": "72481c4f",
   "metadata": {},
   "outputs": [
    {
     "name": "stdout",
     "output_type": "stream",
     "text": [
      "         c1        c2        c3\n",
      "0  0.132652  0.547930 -0.452061\n",
      "1  1.082287  0.080587 -0.552462\n",
      "2  0.507173  0.279258  0.254136\n",
      "3 -0.583445  0.725751  1.585038\n",
      "4 -0.083846  1.226754 -0.559658\n",
      "5 -0.272941 -0.855842 -0.044444\n",
      "6  0.107254  0.306861  0.783941\n",
      "         c1        c2        c3\n",
      "0  0.496278  0.488349 -0.119763\n",
      "1 -0.562349  1.204726  0.328871\n",
      "2  0.553167 -0.209548 -0.530794\n",
      "         c1        c2        c3\n",
      "0  0.496278  0.488349 -0.119763\n",
      "1 -0.562349  1.204726  0.328871\n",
      "2  0.553167 -0.209548 -0.530794\n",
      "3  0.553167 -0.209548 -0.530794\n",
      "4  0.553167 -0.209548 -0.530794\n",
      "5       NaN       NaN       NaN\n",
      "6       NaN       NaN       NaN\n"
     ]
    }
   ],
   "source": [
    "#filling while reindexing\n",
    "\n",
    "#reindex() takes an optional parameter method which is a filling method with values as follows −\n",
    "#pad/ffill − Fill values forward\n",
    "#bfill/backfill − Fill values backward\n",
    "#nearest − Fill from the nearest index values\n",
    "\n",
    "import pandas as pd\n",
    "import numpy as np\n",
    "\n",
    "df1=pd.DataFrame(np.random.randn(7,3),columns=['c1','c2','c3'])\n",
    "df2=pd.DataFrame(np.random.randn(3,3),columns=['c1','c2','c3'])\n",
    "print(df1)\n",
    "print(df2)\n",
    "df2=df2.reindex_like(df1,method='ffill')                     # forward filling\n",
    "                                  #climit argument provides additional control over filling while reindexing. \n",
    "                                  #Limit specifies the maximum count of consecutive matches.\n",
    "print(df2)"
   ]
  },
  {
   "cell_type": "code",
   "execution_count": 342,
   "id": "aef04447",
   "metadata": {},
   "outputs": [
    {
     "name": "stdout",
     "output_type": "stream",
     "text": [
      "         c1        c2        c3\n",
      "0 -1.183918 -0.649770  0.329317\n",
      "1  2.540755 -0.395729 -1.207093\n",
      "2  1.614943  1.237131 -0.333096\n",
      "3 -0.928191 -0.725532 -0.678545\n",
      "4  0.484012  2.907334  1.297529\n",
      "5  0.235144  0.037637 -1.636313\n",
      "6  0.664359  0.288335  1.200300\n",
      "         c1        c2        c3\n",
      "0  1.317586  2.365947 -1.070471\n",
      "1  0.041368 -0.823702  0.723699\n",
      "2 -1.041702 -0.903337 -0.549615\n",
      "         c1        c2        c3\n",
      "0 -1.183918 -0.649770  0.329317\n",
      "1  2.540755 -0.395729 -1.207093\n",
      "2  1.614943  1.237131 -0.333096\n"
     ]
    }
   ],
   "source": [
    "import pandas as pd\n",
    "import numpy as np\n",
    "\n",
    "df1=pd.DataFrame(np.random.randn(7,3),columns=['c1','c2','c3'])\n",
    "df2=pd.DataFrame(np.random.randn(3,3),columns=['c1','c2','c3'])\n",
    "print(df1)\n",
    "print(df2)\n",
    "df1=df1.reindex_like(df2,method='bfill')                  #backward filling\n",
    "print(df1)"
   ]
  },
  {
   "cell_type": "code",
   "execution_count": 294,
   "id": "bc5c92c5",
   "metadata": {},
   "outputs": [
    {
     "name": "stdout",
     "output_type": "stream",
     "text": [
      "         c1        c2        c3\n",
      "0 -0.640150 -0.255702  0.766310\n",
      "1  1.067536 -1.019374 -1.734169\n",
      "2  0.666612 -0.662193  1.346337\n",
      "3  0.819937  0.816627 -1.441777\n",
      "4 -0.077951  0.897604  0.110978\n",
      "       col1      col2      col3\n",
      "0 -0.640150 -0.255702  0.766310\n",
      "1  1.067536 -1.019374 -1.734169\n",
      "2  0.666612 -0.662193  1.346337\n",
      "3  0.819937  0.816627 -1.441777\n",
      "4 -0.077951  0.897604  0.110978\n",
      "         col1      col2      col3\n",
      "I   -0.640150 -0.255702  0.766310\n",
      "II   1.067536 -1.019374 -1.734169\n",
      "III  0.666612 -0.662193  1.346337\n",
      "IV   0.819937  0.816627 -1.441777\n",
      "V   -0.077951  0.897604  0.110978\n"
     ]
    }
   ],
   "source": [
    "#renaming\n",
    "import pandas as pd\n",
    "import numpy as np\n",
    "df=pd.DataFrame(np.random.randn(5,3),columns=['c1','c2','c3'])\n",
    "print(df)                \n",
    "print(df.rename(columns={'c1':'col1','c2':'col2','c3':'col3'}))\n",
    "print(df.rename(columns={'c1':'col1','c2':'col2','c3':'col3'},index={0:'I',1:'II',2:'III',3:'IV',4:'V'}))\n"
   ]
  },
  {
   "cell_type": "code",
   "execution_count": 340,
   "id": "738495f1",
   "metadata": {},
   "outputs": [
    {
     "name": "stdout",
     "output_type": "stream",
     "text": [
      "      Name  Age Sex  Marks  Address\n",
      "0    Pooja   23   F     45      Kop\n",
      "1    Abhay   21   M     56     Pune\n",
      "2  Deepali   33   F     74  Sangali\n",
      "3    Sagar   45   M     87     Jath\n",
      "4    Dyanu   21   M     67   Mumbai\n",
      "      Name  Address  Eligibilty\n",
      "0    Pooja      Kop         NaN\n",
      "1    Abhay     Pune         NaN\n",
      "2  Deepali  Sangali         NaN\n"
     ]
    }
   ],
   "source": [
    "import pandas as pd\n",
    "import numpy as np\n",
    "\n",
    "df = pd.DataFrame({\n",
    "   'Name': ['Pooja','Abhay','Deepali','Sagar','Dyanu'],\n",
    "   'Age': [23,21,33,45,21],\n",
    "   'Sex': ['F','M','F','M','M'],\n",
    "   'Marks':[45,56,74,87,67],\n",
    "   'Address': ['Kop','Pune','Sangali','Jath','Mumbai']\n",
    "})\n",
    "print(df)\n",
    "df_reindex=df.reindex(index=[0,1,2],columns=['Name','Address','Eligibilty'])\n",
    "print(df_reindex)"
   ]
  },
  {
   "cell_type": "code",
   "execution_count": 303,
   "id": "24ce9d52",
   "metadata": {},
   "outputs": [
    {
     "name": "stdout",
     "output_type": "stream",
     "text": [
      "      Name  Age Sex  Marks  Address\n",
      "0    Pooja   23   F     45      Kop\n",
      "1    Abhay   21   M     56     Pune\n",
      "2  Deepali   33   F     74  Sangali\n",
      "3    Sagar   45   M     87     Jath\n",
      "4    Dyanu   21   M     67   Mumbai\n",
      "Name\n",
      "Age\n",
      "Sex\n",
      "Marks\n",
      "Address\n"
     ]
    }
   ],
   "source": [
    "# Iterating over dataframe   ------Iterating a DataFrame gives column names. \n",
    "'''\n",
    "To iterate over the rows of the DataFrame, we can use the following functions −\n",
    "\n",
    "    iteritems() − to iterate over the (key,value) pairs\n",
    "\n",
    "    iterrows() − iterate over the rows as (index,series) pairs\n",
    "\n",
    "    itertuples() − iterate over the rows as namedtuples\n",
    "\n",
    "'''\n",
    "import pandas as pd\n",
    "import numpy as np\n",
    "\n",
    "df = pd.DataFrame({\n",
    "   'Name': ['Pooja','Abhay','Deepali','Sagar','Dyanu'],\n",
    "   'Age': [23,21,33,45,21],\n",
    "   'Sex': ['F','M','F','M','M'],\n",
    "   'Marks':[45,56,74,87,67],\n",
    "   'Address': ['Kop','Pune','Sangali','Jath','Mumbai']\n",
    "})\n",
    "print(df)\n",
    "for i in df:                             #iterting over df gives column names\n",
    "    print(i)"
   ]
  },
  {
   "cell_type": "code",
   "execution_count": 306,
   "id": "061c45fe",
   "metadata": {},
   "outputs": [
    {
     "name": "stdout",
     "output_type": "stream",
     "text": [
      "      Name  Age Sex  Marks  Address\n",
      "0    Pooja   23   F     45      Kop\n",
      "1    Abhay   21   M     56     Pune\n",
      "2  Deepali   33   F     74  Sangali\n",
      "3    Sagar   45   M     87     Jath\n",
      "4    Dyanu   21   M     67   Mumbai\n",
      "\n",
      " Name \t 0      Pooja\n",
      "1      Abhay\n",
      "2    Deepali\n",
      "3      Sagar\n",
      "4      Dyanu\n",
      "Name: Name, dtype: object\n",
      "\n",
      " Age \t 0    23\n",
      "1    21\n",
      "2    33\n",
      "3    45\n",
      "4    21\n",
      "Name: Age, dtype: int64\n",
      "\n",
      " Sex \t 0    F\n",
      "1    M\n",
      "2    F\n",
      "3    M\n",
      "4    M\n",
      "Name: Sex, dtype: object\n",
      "\n",
      " Marks \t 0    45\n",
      "1    56\n",
      "2    74\n",
      "3    87\n",
      "4    67\n",
      "Name: Marks, dtype: int64\n",
      "\n",
      " Address \t 0        Kop\n",
      "1       Pune\n",
      "2    Sangali\n",
      "3       Jath\n",
      "4     Mumbai\n",
      "Name: Address, dtype: object\n"
     ]
    }
   ],
   "source": [
    "#iteritems()\n",
    "#Iterates over each column as key, value pair with label as key and column value as a Series object.\n",
    "\n",
    "import pandas as pd\n",
    "import numpy as np\n",
    "\n",
    "df = pd.DataFrame({\n",
    "   'Name': ['Pooja','Abhay','Deepali','Sagar','Dyanu'],\n",
    "   'Age': [23,21,33,45,21],\n",
    "   'Sex': ['F','M','F','M','M'],\n",
    "   'Marks':[45,56,74,87,67],\n",
    "   'Address': ['Kop','Pune','Sangali','Jath','Mumbai']\n",
    "})\n",
    "print(df)\n",
    "for i,j in df.iteritems():\n",
    "    print(\"\\n\",i,\"\\t\",j)"
   ]
  },
  {
   "cell_type": "code",
   "execution_count": 312,
   "id": "f41b8531",
   "metadata": {},
   "outputs": [
    {
     "name": "stdout",
     "output_type": "stream",
     "text": [
      "      Name  Age Sex  Marks  Address\n",
      "0    Pooja   23   F     45      Kop\n",
      "1    Abhay   21   M     56     Pune\n",
      "2  Deepali   33   F     74  Sangali\n",
      "3    Sagar   45   M     87     Jath\n",
      "4    Dyanu   21   M     67   Mumbai \n",
      "\n",
      "0 Name       Pooja\n",
      "Age           23\n",
      "Sex            F\n",
      "Marks         45\n",
      "Address      Kop\n",
      "Name: 0, dtype: object\n",
      "1 Name       Abhay\n",
      "Age           21\n",
      "Sex            M\n",
      "Marks         56\n",
      "Address     Pune\n",
      "Name: 1, dtype: object\n",
      "2 Name       Deepali\n",
      "Age             33\n",
      "Sex              F\n",
      "Marks           74\n",
      "Address    Sangali\n",
      "Name: 2, dtype: object\n",
      "3 Name       Sagar\n",
      "Age           45\n",
      "Sex            M\n",
      "Marks         87\n",
      "Address     Jath\n",
      "Name: 3, dtype: object\n",
      "4 Name        Dyanu\n",
      "Age            21\n",
      "Sex             M\n",
      "Marks          67\n",
      "Address    Mumbai\n",
      "Name: 4, dtype: object\n"
     ]
    }
   ],
   "source": [
    "#iterrows()\n",
    "#iterrows() returns the iterator yielding each index value along with a series containing the data in each row.\n",
    "import pandas as pd\n",
    "import numpy as np\n",
    "\n",
    "df = pd.DataFrame({\n",
    "   'Name': ['Pooja','Abhay','Deepali','Sagar','Dyanu'],\n",
    "   'Age': [23,21,33,45,21],\n",
    "   'Sex': ['F','M','F','M','M'],\n",
    "   'Marks':[45,56,74,87,67],\n",
    "   'Address': ['Kop','Pune','Sangali','Jath','Mumbai']\n",
    "})\n",
    "print(df,\"\\n\")\n",
    "for row_index,row in df.iterrows():\n",
    "    print(row_index,row)"
   ]
  },
  {
   "cell_type": "code",
   "execution_count": 313,
   "id": "d58e17c2",
   "metadata": {},
   "outputs": [
    {
     "name": "stdout",
     "output_type": "stream",
     "text": [
      "      Name  Age Sex  Marks  Address\n",
      "0    Pooja   23   F     45      Kop\n",
      "1    Abhay   21   M     56     Pune\n",
      "2  Deepali   33   F     74  Sangali\n",
      "3    Sagar   45   M     87     Jath\n",
      "4    Dyanu   21   M     67   Mumbai \n",
      "\n",
      "Pandas(Index=0, Name='Pooja', Age=23, Sex='F', Marks=45, Address='Kop')\n",
      "Pandas(Index=1, Name='Abhay', Age=21, Sex='M', Marks=56, Address='Pune')\n",
      "Pandas(Index=2, Name='Deepali', Age=33, Sex='F', Marks=74, Address='Sangali')\n",
      "Pandas(Index=3, Name='Sagar', Age=45, Sex='M', Marks=87, Address='Jath')\n",
      "Pandas(Index=4, Name='Dyanu', Age=21, Sex='M', Marks=67, Address='Mumbai')\n"
     ]
    }
   ],
   "source": [
    "#itertuples()\n",
    "#itertuples() method will return an iterator yielding a named tuple for each row in the DataFrame.\n",
    "\n",
    "import pandas as pd\n",
    "import numpy as np\n",
    "\n",
    "df = pd.DataFrame({\n",
    "   'Name': ['Pooja','Abhay','Deepali','Sagar','Dyanu'],\n",
    "   'Age': [23,21,33,45,21],\n",
    "   'Sex': ['F','M','F','M','M'],\n",
    "   'Marks':[45,56,74,87,67],\n",
    "   'Address': ['Kop','Pune','Sangali','Jath','Mumbai']\n",
    "})\n",
    "print(df,\"\\n\")\n",
    "for index in df.itertuples():\n",
    "    print(index)"
   ]
  },
  {
   "cell_type": "code",
   "execution_count": 325,
   "id": "e29d7a3d",
   "metadata": {},
   "outputs": [
    {
     "name": "stdout",
     "output_type": "stream",
     "text": [
      "    col1\n",
      "1     34\n",
      "12     5\n",
      "31    66\n",
      "14    43\n",
      "5     54\n",
      "16    22\n",
      "7     12\n",
      "8     55\n",
      "9     12\n",
      "10    33\n",
      "    col1\n",
      "1     34\n",
      "5     54\n",
      "7     12\n",
      "8     55\n",
      "9     12\n",
      "10    33\n",
      "12     5\n",
      "14    43\n",
      "16    22\n",
      "31    66\n",
      "    col1\n",
      "31    66\n",
      "16    22\n",
      "14    43\n",
      "12     5\n",
      "10    33\n",
      "9     12\n",
      "8     55\n",
      "7     12\n",
      "5     54\n",
      "1     34\n"
     ]
    }
   ],
   "source": [
    "#sorting\n",
    "# 1. by Label\n",
    "# 2. by actual value\n",
    "\n",
    "\n",
    "\n",
    "#Using the sort_index() method, by passing the axis arguments and the order of sorting, DataFrame can be sorted. \n",
    "#By default, sorting is done on row labels in ascending order.\n",
    "\n",
    "import pandas as pd\n",
    "import numpy as np\n",
    "\n",
    "unsorted_df=pd.DataFrame([34,5,66,43,54,22,12,55,12,33],index=[1,12,31,14,5,16,7,8,9,10],columns=['col1'])\n",
    "print(unsorted_df)\n",
    "sorted_df=unsorted_df.sort_index()\n",
    "print(sorted_df)\n",
    "descending_df=unsorted_df.sort_index(ascending=False)\n",
    "print(descending_df)"
   ]
  },
  {
   "cell_type": "code",
   "execution_count": 333,
   "id": "b9340656",
   "metadata": {},
   "outputs": [
    {
     "name": "stdout",
     "output_type": "stream",
     "text": [
      "   col1  col2\n",
      "1    23   667\n",
      "2    12    34\n",
      "3     3     5\n",
      "4    67     2\n",
      "5     0    99\n",
      "6     9     1\n",
      "   col1  col2\n",
      "5     0    99\n",
      "3     3     5\n",
      "6     9     1\n",
      "2    12    34\n",
      "1    23   667\n",
      "4    67     2\n"
     ]
    }
   ],
   "source": [
    "# by value\n",
    "#Like index sorting, sort_values() is the method for sorting by values.\n",
    "#It accepts a 'by' argument which will use the column name of the DataFrame with which the values are to be sorted.\n",
    "\n",
    "import pandas as pd\n",
    "import numpy as np\n",
    "\n",
    "df=pd.DataFrame(\n",
    "             {\n",
    "                 'col1':[23,12,3,67,0,9],\n",
    "                 'col2':[667,34,5,2,99,1]\n",
    "             }\n",
    ",index=[1,2,3,4,5,6])\n",
    "print(df)\n",
    "sorted_df=df.sort_values(by='col1')\n",
    "\n",
    "#sorted_df=df.sort_values(by=['col1','col2'])     \n",
    "#----Observe, col1 values are sorted and the respective col2 value and row index will alter along with col1. Thus, they look unsorted.\n",
    "\n",
    "\n",
    "print(sorted_df)"
   ]
  },
  {
   "cell_type": "code",
   "execution_count": 334,
   "id": "6a4f3f79",
   "metadata": {},
   "outputs": [
    {
     "name": "stdout",
     "output_type": "stream",
     "text": [
      "   col1  col2\n",
      "1    23   667\n",
      "2    12    34\n",
      "3     3     5\n",
      "4    67     2\n",
      "5     0    99\n",
      "6     9     1\n",
      "   col1  col2\n",
      "5     0    99\n",
      "3     3     5\n",
      "6     9     1\n",
      "2    12    34\n",
      "1    23   667\n",
      "4    67     2\n"
     ]
    }
   ],
   "source": [
    "#sort_values() provides a provision to choose the algorithm from mergesort, heapsort and quicksort. \n",
    "#Mergesort is the only stable algorithm.\n",
    "\n",
    "import pandas as pd\n",
    "import numpy as np\n",
    "\n",
    "df=pd.DataFrame(\n",
    "             {\n",
    "                 'col1':[23,12,3,67,0,9],\n",
    "                 'col2':[667,34,5,2,99,1]\n",
    "             }\n",
    ",index=[1,2,3,4,5,6])\n",
    "print(df)\n",
    "sorted_df=df.sort_values(by='col1',kind='mergesort')\n",
    "print(sorted_df)"
   ]
  },
  {
   "cell_type": "code",
   "execution_count": 339,
   "id": "ba07c455",
   "metadata": {},
   "outputs": [
    {
     "name": "stdout",
     "output_type": "stream",
     "text": [
      " String Functions \n",
      "\n",
      "1.lower()--------- Converts strings in the Series/Index to lower case.\n",
      "\n",
      "2. upper()-----Converts strings in the Series/Index to upper case.\n",
      "\n",
      "3 len()---------- Computes String length().\n",
      "\n",
      "4 strip()----------Helps strip whitespace(including newline) from each string in the Series/index from both the sides.\n",
      "\n",
      "5. split(' ')--------Splits each string with the given pattern.\n",
      "\n",
      "6. cat(sep=' ')---------------Concatenates the series/index elements with given separator.\n",
      "\n",
      "7. get_dummies()---------------Returns the DataFrame with One-Hot Encoded values.\n",
      "\n",
      "8. contains(pattern)-----Returns a Boolean value True for each element if the substring contains in the element, else False.\n",
      "\n",
      "9. replace(a,b)-------------------------------Replaces the value a with the value b.\n",
      "\n",
      "10. repeat(value)-------------------Repeats each element with specified number of times.\n",
      "\n",
      "11. count(pattern)-------Returns count of appearance of pattern in each element.\n",
      "\n",
      "12. startswith(pattern)------------Returns true if the element in the Series/Index starts with the pattern.\n",
      "\n",
      "13. endswith(pattern)--------Returns true if the element in the Series/Index ends with the pattern.\n",
      "\n",
      "14.find(pattern)-------------Returns the first position of the first occurrence of the pattern.\n",
      "\n",
      "15. findall(pattern)------------Returns a list of all occurrence of the pattern.\n",
      "\n",
      "16. swapcase-----------------Swaps the case lower/upper.\n",
      "\n",
      "17. islower()------------Checks whether all characters in each string in the Series/Index in lower case or not. Returns Boolean\n",
      "\n",
      "18. isupper()---------------------------Checks whether all characters in each string in the Series/Index in upper case or not. Returns Boolean.\n",
      "\n",
      "19. isnumeric()------------Checks whether all characters in each string in the Series/Index are numeric. Returns Boolean.\n"
     ]
    }
   ],
   "source": [
    "#working with text data\n",
    "\n",
    "''' String Functions \n",
    "\n",
    "1.lower()--------- Converts strings in the Series/Index to lower case.\n",
    "\n",
    "2. upper()-----Converts strings in the Series/Index to upper case.\n",
    "\n",
    "3 len()---------- Computes String length().\n",
    "\n",
    "4 strip()----------Helps strip whitespace(including newline) from each string in the Series/index from both the sides.\n",
    "\n",
    "5. split(' ')--------Splits each string with the given pattern.\n",
    "\n",
    "6. cat(sep=' ')---------------Concatenates the series/index elements with given separator.\n",
    "\n",
    "7. get_dummies()---------------Returns the DataFrame with One-Hot Encoded values.\n",
    "\n",
    "8. contains(pattern)-----Returns a Boolean value True for each element if the substring contains in the element, else False.\n",
    "\n",
    "9. replace(a,b)-------------------------------Replaces the value a with the value b.\n",
    "\n",
    "10. repeat(value)-------------------Repeats each element with specified number of times.\n",
    "\n",
    "11. count(pattern)-------Returns count of appearance of pattern in each element.\n",
    "\n",
    "12. startswith(pattern)------------Returns true if the element in the Series/Index starts with the pattern.\n",
    "\n",
    "13. endswith(pattern)--------Returns true if the element in the Series/Index ends with the pattern.\n",
    "\n",
    "14.find(pattern)-------------Returns the first position of the first occurrence of the pattern.\n",
    "\n",
    "15. findall(pattern)------------Returns a list of all occurrence of the pattern.\n",
    "\n",
    "16. swapcase-----------------Swaps the case lower/upper.\n",
    "\n",
    "17. islower()------------Checks whether all characters in each string in the Series/Index in lower case or not. Returns Boolean\n",
    "\n",
    "18. isupper()---------------------------Checks whether all characters in each string in the Series/Index in upper case or not. Returns Boolean.\n",
    "\n",
    "19. isnumeric()------------Checks whether all characters in each string in the Series/Index are numeric. Returns Boolean.'''\n",
    "print(__doc__)"
   ]
  },
  {
   "cell_type": "code",
   "execution_count": 2,
   "id": "5c1862b1",
   "metadata": {},
   "outputs": [
    {
     "data": {
      "text/html": [
       "<div>\n",
       "<style scoped>\n",
       "    .dataframe tbody tr th:only-of-type {\n",
       "        vertical-align: middle;\n",
       "    }\n",
       "\n",
       "    .dataframe tbody tr th {\n",
       "        vertical-align: top;\n",
       "    }\n",
       "\n",
       "    .dataframe thead th {\n",
       "        text-align: right;\n",
       "    }\n",
       "</style>\n",
       "<table border=\"1\" class=\"dataframe\">\n",
       "  <thead>\n",
       "    <tr style=\"text-align: right;\">\n",
       "      <th></th>\n",
       "      <th>PassengerId</th>\n",
       "      <th>Survived</th>\n",
       "      <th>Pclass</th>\n",
       "      <th>Name</th>\n",
       "      <th>Sex</th>\n",
       "      <th>Age</th>\n",
       "      <th>SibSp</th>\n",
       "      <th>Parch</th>\n",
       "      <th>Ticket</th>\n",
       "      <th>Fare</th>\n",
       "      <th>Cabin</th>\n",
       "      <th>Embarked</th>\n",
       "    </tr>\n",
       "  </thead>\n",
       "  <tbody>\n",
       "    <tr>\n",
       "      <th>0</th>\n",
       "      <td>1</td>\n",
       "      <td>0</td>\n",
       "      <td>3</td>\n",
       "      <td>Braund, Mr. Owen Harris</td>\n",
       "      <td>male</td>\n",
       "      <td>22.0</td>\n",
       "      <td>1</td>\n",
       "      <td>0</td>\n",
       "      <td>A/5 21171</td>\n",
       "      <td>7.2500</td>\n",
       "      <td>NaN</td>\n",
       "      <td>S</td>\n",
       "    </tr>\n",
       "    <tr>\n",
       "      <th>1</th>\n",
       "      <td>2</td>\n",
       "      <td>1</td>\n",
       "      <td>1</td>\n",
       "      <td>Cumings, Mrs. John Bradley (Florence Briggs Th...</td>\n",
       "      <td>female</td>\n",
       "      <td>38.0</td>\n",
       "      <td>1</td>\n",
       "      <td>0</td>\n",
       "      <td>PC 17599</td>\n",
       "      <td>71.2833</td>\n",
       "      <td>C85</td>\n",
       "      <td>C</td>\n",
       "    </tr>\n",
       "    <tr>\n",
       "      <th>2</th>\n",
       "      <td>3</td>\n",
       "      <td>1</td>\n",
       "      <td>3</td>\n",
       "      <td>Heikkinen, Miss. Laina</td>\n",
       "      <td>female</td>\n",
       "      <td>26.0</td>\n",
       "      <td>0</td>\n",
       "      <td>0</td>\n",
       "      <td>STON/O2. 3101282</td>\n",
       "      <td>7.9250</td>\n",
       "      <td>NaN</td>\n",
       "      <td>S</td>\n",
       "    </tr>\n",
       "    <tr>\n",
       "      <th>3</th>\n",
       "      <td>4</td>\n",
       "      <td>1</td>\n",
       "      <td>1</td>\n",
       "      <td>Futrelle, Mrs. Jacques Heath (Lily May Peel)</td>\n",
       "      <td>female</td>\n",
       "      <td>35.0</td>\n",
       "      <td>1</td>\n",
       "      <td>0</td>\n",
       "      <td>113803</td>\n",
       "      <td>53.1000</td>\n",
       "      <td>C123</td>\n",
       "      <td>S</td>\n",
       "    </tr>\n",
       "    <tr>\n",
       "      <th>4</th>\n",
       "      <td>5</td>\n",
       "      <td>0</td>\n",
       "      <td>3</td>\n",
       "      <td>Allen, Mr. William Henry</td>\n",
       "      <td>male</td>\n",
       "      <td>35.0</td>\n",
       "      <td>0</td>\n",
       "      <td>0</td>\n",
       "      <td>373450</td>\n",
       "      <td>8.0500</td>\n",
       "      <td>NaN</td>\n",
       "      <td>S</td>\n",
       "    </tr>\n",
       "    <tr>\n",
       "      <th>...</th>\n",
       "      <td>...</td>\n",
       "      <td>...</td>\n",
       "      <td>...</td>\n",
       "      <td>...</td>\n",
       "      <td>...</td>\n",
       "      <td>...</td>\n",
       "      <td>...</td>\n",
       "      <td>...</td>\n",
       "      <td>...</td>\n",
       "      <td>...</td>\n",
       "      <td>...</td>\n",
       "      <td>...</td>\n",
       "    </tr>\n",
       "    <tr>\n",
       "      <th>886</th>\n",
       "      <td>887</td>\n",
       "      <td>0</td>\n",
       "      <td>2</td>\n",
       "      <td>Montvila, Rev. Juozas</td>\n",
       "      <td>male</td>\n",
       "      <td>27.0</td>\n",
       "      <td>0</td>\n",
       "      <td>0</td>\n",
       "      <td>211536</td>\n",
       "      <td>13.0000</td>\n",
       "      <td>NaN</td>\n",
       "      <td>S</td>\n",
       "    </tr>\n",
       "    <tr>\n",
       "      <th>887</th>\n",
       "      <td>888</td>\n",
       "      <td>1</td>\n",
       "      <td>1</td>\n",
       "      <td>Graham, Miss. Margaret Edith</td>\n",
       "      <td>female</td>\n",
       "      <td>19.0</td>\n",
       "      <td>0</td>\n",
       "      <td>0</td>\n",
       "      <td>112053</td>\n",
       "      <td>30.0000</td>\n",
       "      <td>B42</td>\n",
       "      <td>S</td>\n",
       "    </tr>\n",
       "    <tr>\n",
       "      <th>888</th>\n",
       "      <td>889</td>\n",
       "      <td>0</td>\n",
       "      <td>3</td>\n",
       "      <td>Johnston, Miss. Catherine Helen \"Carrie\"</td>\n",
       "      <td>female</td>\n",
       "      <td>NaN</td>\n",
       "      <td>1</td>\n",
       "      <td>2</td>\n",
       "      <td>W./C. 6607</td>\n",
       "      <td>23.4500</td>\n",
       "      <td>NaN</td>\n",
       "      <td>S</td>\n",
       "    </tr>\n",
       "    <tr>\n",
       "      <th>889</th>\n",
       "      <td>890</td>\n",
       "      <td>1</td>\n",
       "      <td>1</td>\n",
       "      <td>Behr, Mr. Karl Howell</td>\n",
       "      <td>male</td>\n",
       "      <td>26.0</td>\n",
       "      <td>0</td>\n",
       "      <td>0</td>\n",
       "      <td>111369</td>\n",
       "      <td>30.0000</td>\n",
       "      <td>C148</td>\n",
       "      <td>C</td>\n",
       "    </tr>\n",
       "    <tr>\n",
       "      <th>890</th>\n",
       "      <td>891</td>\n",
       "      <td>0</td>\n",
       "      <td>3</td>\n",
       "      <td>Dooley, Mr. Patrick</td>\n",
       "      <td>male</td>\n",
       "      <td>32.0</td>\n",
       "      <td>0</td>\n",
       "      <td>0</td>\n",
       "      <td>370376</td>\n",
       "      <td>7.7500</td>\n",
       "      <td>NaN</td>\n",
       "      <td>Q</td>\n",
       "    </tr>\n",
       "  </tbody>\n",
       "</table>\n",
       "<p>891 rows × 12 columns</p>\n",
       "</div>"
      ],
      "text/plain": [
       "     PassengerId  Survived  Pclass  \\\n",
       "0              1         0       3   \n",
       "1              2         1       1   \n",
       "2              3         1       3   \n",
       "3              4         1       1   \n",
       "4              5         0       3   \n",
       "..           ...       ...     ...   \n",
       "886          887         0       2   \n",
       "887          888         1       1   \n",
       "888          889         0       3   \n",
       "889          890         1       1   \n",
       "890          891         0       3   \n",
       "\n",
       "                                                  Name     Sex   Age  SibSp  \\\n",
       "0                              Braund, Mr. Owen Harris    male  22.0      1   \n",
       "1    Cumings, Mrs. John Bradley (Florence Briggs Th...  female  38.0      1   \n",
       "2                               Heikkinen, Miss. Laina  female  26.0      0   \n",
       "3         Futrelle, Mrs. Jacques Heath (Lily May Peel)  female  35.0      1   \n",
       "4                             Allen, Mr. William Henry    male  35.0      0   \n",
       "..                                                 ...     ...   ...    ...   \n",
       "886                              Montvila, Rev. Juozas    male  27.0      0   \n",
       "887                       Graham, Miss. Margaret Edith  female  19.0      0   \n",
       "888           Johnston, Miss. Catherine Helen \"Carrie\"  female   NaN      1   \n",
       "889                              Behr, Mr. Karl Howell    male  26.0      0   \n",
       "890                                Dooley, Mr. Patrick    male  32.0      0   \n",
       "\n",
       "     Parch            Ticket     Fare Cabin Embarked  \n",
       "0        0         A/5 21171   7.2500   NaN        S  \n",
       "1        0          PC 17599  71.2833   C85        C  \n",
       "2        0  STON/O2. 3101282   7.9250   NaN        S  \n",
       "3        0            113803  53.1000  C123        S  \n",
       "4        0            373450   8.0500   NaN        S  \n",
       "..     ...               ...      ...   ...      ...  \n",
       "886      0            211536  13.0000   NaN        S  \n",
       "887      0            112053  30.0000   B42        S  \n",
       "888      2        W./C. 6607  23.4500   NaN        S  \n",
       "889      0            111369  30.0000  C148        C  \n",
       "890      0            370376   7.7500   NaN        Q  \n",
       "\n",
       "[891 rows x 12 columns]"
      ]
     },
     "execution_count": 2,
     "metadata": {},
     "output_type": "execute_result"
    }
   ],
   "source": [
    "import pandas as pd\n",
    "df=pd.read_csv(\"C:\\\\Users\\\\admin\\\\OneDrive\\\\Desktop\\\\train.csv\")\n",
    "df"
   ]
  },
  {
   "cell_type": "code",
   "execution_count": 3,
   "id": "147538c4",
   "metadata": {},
   "outputs": [
    {
     "data": {
      "text/plain": [
       "891"
      ]
     },
     "execution_count": 3,
     "metadata": {},
     "output_type": "execute_result"
    }
   ],
   "source": [
    "len(df.index)"
   ]
  },
  {
   "cell_type": "code",
   "execution_count": 5,
   "id": "77ccbbc9",
   "metadata": {},
   "outputs": [
    {
     "data": {
      "text/plain": [
       "12"
      ]
     },
     "execution_count": 5,
     "metadata": {},
     "output_type": "execute_result"
    }
   ],
   "source": [
    "len(df.columns)"
   ]
  },
  {
   "cell_type": "code",
   "execution_count": 6,
   "id": "80bac69b",
   "metadata": {},
   "outputs": [
    {
     "name": "stdout",
     "output_type": "stream",
     "text": [
      "<class 'pandas.core.frame.DataFrame'>\n",
      "RangeIndex: 891 entries, 0 to 890\n",
      "Data columns (total 12 columns):\n",
      " #   Column       Non-Null Count  Dtype  \n",
      "---  ------       --------------  -----  \n",
      " 0   PassengerId  891 non-null    int64  \n",
      " 1   Survived     891 non-null    int64  \n",
      " 2   Pclass       891 non-null    int64  \n",
      " 3   Name         891 non-null    object \n",
      " 4   Sex          891 non-null    object \n",
      " 5   Age          714 non-null    float64\n",
      " 6   SibSp        891 non-null    int64  \n",
      " 7   Parch        891 non-null    int64  \n",
      " 8   Ticket       891 non-null    object \n",
      " 9   Fare         891 non-null    float64\n",
      " 10  Cabin        204 non-null    object \n",
      " 11  Embarked     889 non-null    object \n",
      "dtypes: float64(2), int64(5), object(5)\n",
      "memory usage: 83.7+ KB\n"
     ]
    }
   ],
   "source": [
    "df.info()"
   ]
  },
  {
   "cell_type": "code",
   "execution_count": 7,
   "id": "1b026f04",
   "metadata": {},
   "outputs": [
    {
     "data": {
      "text/plain": [
       "Index(['PassengerId', 'Survived', 'Pclass', 'Name', 'Sex', 'Age', 'SibSp',\n",
       "       'Parch', 'Ticket', 'Fare', 'Cabin', 'Embarked'],\n",
       "      dtype='object')"
      ]
     },
     "execution_count": 7,
     "metadata": {},
     "output_type": "execute_result"
    }
   ],
   "source": [
    "df.columns"
   ]
  },
  {
   "cell_type": "code",
   "execution_count": 28,
   "id": "cc8fcf36",
   "metadata": {},
   "outputs": [
    {
     "data": {
      "text/plain": [
       "577"
      ]
     },
     "execution_count": 28,
     "metadata": {},
     "output_type": "execute_result"
    }
   ],
   "source": [
    "df[df['Sex']=='male']['Sex'].count()"
   ]
  },
  {
   "cell_type": "code",
   "execution_count": 35,
   "id": "9cf6a8bc",
   "metadata": {},
   "outputs": [
    {
     "data": {
      "text/html": [
       "<div>\n",
       "<style scoped>\n",
       "    .dataframe tbody tr th:only-of-type {\n",
       "        vertical-align: middle;\n",
       "    }\n",
       "\n",
       "    .dataframe tbody tr th {\n",
       "        vertical-align: top;\n",
       "    }\n",
       "\n",
       "    .dataframe thead th {\n",
       "        text-align: right;\n",
       "    }\n",
       "</style>\n",
       "<table border=\"1\" class=\"dataframe\">\n",
       "  <thead>\n",
       "    <tr style=\"text-align: right;\">\n",
       "      <th></th>\n",
       "      <th>Fare</th>\n",
       "    </tr>\n",
       "    <tr>\n",
       "      <th>Sex</th>\n",
       "      <th></th>\n",
       "    </tr>\n",
       "  </thead>\n",
       "  <tbody>\n",
       "    <tr>\n",
       "      <th>female</th>\n",
       "      <td>44.479818</td>\n",
       "    </tr>\n",
       "    <tr>\n",
       "      <th>male</th>\n",
       "      <td>25.523893</td>\n",
       "    </tr>\n",
       "  </tbody>\n",
       "</table>\n",
       "</div>"
      ],
      "text/plain": [
       "             Fare\n",
       "Sex              \n",
       "female  44.479818\n",
       "male    25.523893"
      ]
     },
     "execution_count": 35,
     "metadata": {},
     "output_type": "execute_result"
    }
   ],
   "source": [
    "df.groupby('Sex').agg({'Fare':'mean'})"
   ]
  },
  {
   "cell_type": "code",
   "execution_count": 43,
   "id": "f81c02b5",
   "metadata": {},
   "outputs": [
    {
     "data": {
      "text/plain": [
       "575"
      ]
     },
     "execution_count": 43,
     "metadata": {},
     "output_type": "execute_result"
    }
   ],
   "source": [
    "df[df['Age']>18]['PassengerId'].count()\n"
   ]
  },
  {
   "cell_type": "code",
   "execution_count": 44,
   "id": "498f4fae",
   "metadata": {},
   "outputs": [
    {
     "name": "stderr",
     "output_type": "stream",
     "text": [
      "C:\\Users\\admin\\AppData\\Local\\Temp\\ipykernel_13484\\903820574.py:2: UserWarning: Boolean Series key will be reindexed to match DataFrame index.\n",
      "  df[df['Sex']=='male'][df['Age']>25].count()\n"
     ]
    },
    {
     "data": {
      "text/plain": [
       "PassengerId    274\n",
       "Survived       274\n",
       "Pclass         274\n",
       "Name           274\n",
       "Sex            274\n",
       "Age            274\n",
       "SibSp          274\n",
       "Parch          274\n",
       "Ticket         274\n",
       "Fare           274\n",
       "Cabin           76\n",
       "Embarked       274\n",
       "dtype: int64"
      ]
     },
     "execution_count": 44,
     "metadata": {},
     "output_type": "execute_result"
    }
   ],
   "source": [
    " #How many people have American Express as their Credit Card Provider *and made a purchase above $95 ?**\n",
    "df[df['Sex']=='male'][df['Age']>25].count()"
   ]
  },
  {
   "cell_type": "code",
   "execution_count": null,
   "id": "2952a77a",
   "metadata": {},
   "outputs": [],
   "source": []
  },
  {
   "cell_type": "code",
   "execution_count": null,
   "id": "0a526e4d",
   "metadata": {},
   "outputs": [],
   "source": []
  },
  {
   "cell_type": "code",
   "execution_count": null,
   "id": "d781a523",
   "metadata": {},
   "outputs": [],
   "source": []
  },
  {
   "cell_type": "code",
   "execution_count": null,
   "id": "ecfa8323",
   "metadata": {},
   "outputs": [],
   "source": []
  },
  {
   "cell_type": "code",
   "execution_count": null,
   "id": "372d691a",
   "metadata": {},
   "outputs": [],
   "source": []
  },
  {
   "cell_type": "code",
   "execution_count": null,
   "id": "b80c3b86",
   "metadata": {},
   "outputs": [],
   "source": []
  },
  {
   "cell_type": "code",
   "execution_count": null,
   "id": "4e889354",
   "metadata": {},
   "outputs": [],
   "source": []
  },
  {
   "cell_type": "code",
   "execution_count": null,
   "id": "b045ca84",
   "metadata": {},
   "outputs": [],
   "source": []
  },
  {
   "cell_type": "code",
   "execution_count": null,
   "id": "75ca80b5",
   "metadata": {},
   "outputs": [],
   "source": []
  },
  {
   "cell_type": "code",
   "execution_count": null,
   "id": "e5689ae1",
   "metadata": {},
   "outputs": [],
   "source": []
  },
  {
   "cell_type": "code",
   "execution_count": null,
   "id": "7dd91489",
   "metadata": {},
   "outputs": [],
   "source": []
  },
  {
   "cell_type": "code",
   "execution_count": null,
   "id": "72c8c6ff",
   "metadata": {},
   "outputs": [],
   "source": []
  },
  {
   "cell_type": "code",
   "execution_count": null,
   "id": "11f69c14",
   "metadata": {},
   "outputs": [],
   "source": []
  },
  {
   "cell_type": "code",
   "execution_count": null,
   "id": "c7958d10",
   "metadata": {},
   "outputs": [],
   "source": []
  },
  {
   "cell_type": "code",
   "execution_count": null,
   "id": "166e8001",
   "metadata": {},
   "outputs": [],
   "source": []
  },
  {
   "cell_type": "code",
   "execution_count": null,
   "id": "016d2fe0",
   "metadata": {},
   "outputs": [],
   "source": []
  },
  {
   "cell_type": "code",
   "execution_count": null,
   "id": "aecd217c",
   "metadata": {},
   "outputs": [],
   "source": []
  },
  {
   "cell_type": "code",
   "execution_count": null,
   "id": "06dd435b",
   "metadata": {},
   "outputs": [],
   "source": []
  },
  {
   "cell_type": "code",
   "execution_count": null,
   "id": "0cc41f74",
   "metadata": {},
   "outputs": [],
   "source": []
  },
  {
   "cell_type": "code",
   "execution_count": null,
   "id": "a9ff3ad9",
   "metadata": {},
   "outputs": [],
   "source": []
  },
  {
   "cell_type": "code",
   "execution_count": null,
   "id": "eb76411a",
   "metadata": {},
   "outputs": [],
   "source": []
  },
  {
   "cell_type": "code",
   "execution_count": null,
   "id": "f76eef5c",
   "metadata": {},
   "outputs": [],
   "source": []
  },
  {
   "cell_type": "code",
   "execution_count": null,
   "id": "d6fe1164",
   "metadata": {},
   "outputs": [],
   "source": []
  },
  {
   "cell_type": "code",
   "execution_count": null,
   "id": "228ed3e9",
   "metadata": {},
   "outputs": [],
   "source": []
  },
  {
   "cell_type": "code",
   "execution_count": null,
   "id": "9e4418c9",
   "metadata": {},
   "outputs": [],
   "source": []
  },
  {
   "cell_type": "code",
   "execution_count": null,
   "id": "da267031",
   "metadata": {},
   "outputs": [],
   "source": []
  },
  {
   "cell_type": "code",
   "execution_count": null,
   "id": "6eecdc18",
   "metadata": {},
   "outputs": [],
   "source": []
  },
  {
   "cell_type": "code",
   "execution_count": null,
   "id": "f5309522",
   "metadata": {},
   "outputs": [],
   "source": []
  },
  {
   "cell_type": "code",
   "execution_count": null,
   "id": "db6503a5",
   "metadata": {},
   "outputs": [],
   "source": []
  },
  {
   "cell_type": "code",
   "execution_count": null,
   "id": "4ba3d497",
   "metadata": {},
   "outputs": [],
   "source": []
  },
  {
   "cell_type": "code",
   "execution_count": null,
   "id": "b0f3cded",
   "metadata": {},
   "outputs": [],
   "source": []
  },
  {
   "cell_type": "code",
   "execution_count": null,
   "id": "910d9ad9",
   "metadata": {},
   "outputs": [],
   "source": []
  },
  {
   "cell_type": "code",
   "execution_count": null,
   "id": "d1f265a8",
   "metadata": {},
   "outputs": [],
   "source": []
  },
  {
   "cell_type": "code",
   "execution_count": null,
   "id": "415ab003",
   "metadata": {},
   "outputs": [],
   "source": []
  },
  {
   "cell_type": "code",
   "execution_count": null,
   "id": "1c4535fe",
   "metadata": {},
   "outputs": [],
   "source": []
  },
  {
   "cell_type": "code",
   "execution_count": null,
   "id": "4ff77ff9",
   "metadata": {},
   "outputs": [],
   "source": []
  }
 ],
 "metadata": {
  "kernelspec": {
   "display_name": "Python 3 (ipykernel)",
   "language": "python",
   "name": "python3"
  },
  "language_info": {
   "codemirror_mode": {
    "name": "ipython",
    "version": 3
   },
   "file_extension": ".py",
   "mimetype": "text/x-python",
   "name": "python",
   "nbconvert_exporter": "python",
   "pygments_lexer": "ipython3",
   "version": "3.9.12"
  }
 },
 "nbformat": 4,
 "nbformat_minor": 5
}
